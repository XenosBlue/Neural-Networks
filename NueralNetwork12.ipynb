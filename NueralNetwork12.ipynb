{
  "nbformat": 4,
  "nbformat_minor": 0,
  "metadata": {
    "colab": {
      "name": "NueralNetwork12.ipynb",
      "provenance": []
    },
    "kernelspec": {
      "name": "python3",
      "display_name": "Python 3"
    }
  },
  "cells": [
    {
      "cell_type": "code",
      "metadata": {
        "id": "Y0rvpMfEaAIf"
      },
      "source": [
        "import numpy\r\n",
        "import pandas\r\n",
        "import os\r\n",
        "import math\r\n",
        "import matplotlib.pyplot as plt"
      ],
      "execution_count": 1,
      "outputs": []
    },
    {
      "cell_type": "code",
      "metadata": {
        "id": "Idh0GAZv1Xrh"
      },
      "source": [
        "os.chdir(\"xxxxxxxxxxxxxx/cifar-10-batches\")\r\n",
        "batch1 = pandas.read_pickle(\"data_batch_1\")\r\n",
        "batch2 = pandas.read_pickle(\"data_batch_2\")\r\n",
        "batch3 = pandas.read_pickle(\"data_batch_3\")\r\n",
        "batch4 = pandas.read_pickle(\"data_batch_4\")\r\n",
        "batch5 = pandas.read_pickle(\"data_batch_5\")\r\n",
        "batch6 = pandas.read_pickle(\"data_batch_6\")\r\n",
        "\r\n",
        "#data=data.to_numpy()\r\n"
      ],
      "execution_count": 2,
      "outputs": []
    },
    {
      "cell_type": "code",
      "metadata": {
        "id": "87wly_j51tEH"
      },
      "source": [
        "\r\n",
        "def pre_process(x,y):\r\n",
        "  m=len(y)\r\n",
        "  \r\n",
        "  x = (x/255).astype('float32')\r\n",
        "  x=x.T\r\n",
        "  y = numpy.array(y).reshape(1,m)\r\n",
        "  yn=numpy.zeros((10,m))\r\n",
        "  \r\n",
        "  for i in range(m):\r\n",
        "    yn[y[0][i]][i]=1\r\n",
        "  yn=yn.astype('float32')\r\n",
        "\r\n",
        "  print(numpy.unique(y,return_counts=True))\r\n",
        "  return x,yn\r\n"
      ],
      "execution_count": 3,
      "outputs": []
    },
    {
      "cell_type": "code",
      "metadata": {
        "colab": {
          "base_uri": "https://localhost:8080/"
        },
        "id": "Quhobwlhr6x3",
        "outputId": "3dd89f0c-dfbf-42db-c992-dd0f04fc2a75"
      },
      "source": [
        "x1=batch1[b'data']\r\n",
        "x2=batch2[b'data']\r\n",
        "x3=batch3[b'data']\r\n",
        "x4=batch4[b'data']\r\n",
        "x5=batch5[b'data']\r\n",
        "x=numpy.vstack((x1,x2,x3,x4,x5))\r\n",
        "x6=batch6[b'data']\r\n",
        "\r\n",
        "\r\n",
        "pre_y1 = batch1[b'labels']\r\n",
        "pre_y2 = batch2[b'labels']\r\n",
        "pre_y3 = batch3[b'labels']\r\n",
        "pre_y4 = batch4[b'labels']\r\n",
        "pre_y5 = batch5[b'labels']\r\n",
        "pre_y = numpy.hstack((pre_y1,pre_y2,pre_y3,pre_y4,pre_y5)).reshape(-1,1)\r\n",
        "pre_y6 = batch6[b'labels']\r\n",
        "\r\n",
        "\r\n",
        "#x_pre_train,y_pre_train=pre_process(x1,pre_y1)\r\n",
        "x,y = pre_process(x,pre_y)\r\n",
        "x_test,y_test = pre_process(x6,pre_y6)\r\n",
        "\r\n",
        "\r\n",
        "del x1,x2,x3,x4,x5,x6,pre_y1,pre_y2,pre_y3,pre_y4,pre_y5,pre_y6,batch1,batch2,batch3,batch4,batch5,batch6"
      ],
      "execution_count": 4,
      "outputs": [
        {
          "output_type": "stream",
          "text": [
            "(array([0, 1, 2, 3, 4, 5, 6, 7, 8, 9]), array([5000, 5000, 5000, 5000, 5000, 5000, 5000, 5000, 5000, 5000]))\n",
            "(array([0, 1, 2, 3, 4, 5, 6, 7, 8, 9]), array([1000, 1000, 1000, 1000, 1000, 1000, 1000, 1000, 1000, 1000]))\n"
          ],
          "name": "stdout"
        }
      ]
    },
    {
      "cell_type": "code",
      "metadata": {
        "colab": {
          "base_uri": "https://localhost:8080/",
          "height": 1000
        },
        "id": "a7xMOCdkl-yS",
        "outputId": "ddc38b74-ce22-4c8c-8b16-e78973ede339"
      },
      "source": [
        "\r\n",
        "f=x[0:1024,0:1]\r\n",
        "#f=f.T\r\n",
        "print(numpy.shape(f))\r\n",
        "for i in range(11):\r\n",
        "  ind=(int)(numpy.random.uniform(0,50000,None))\r\n",
        "\r\n",
        "\r\n",
        "  pic=(x[0:1024,ind:ind+1]).reshape(32,32)\r\n",
        "  pic=pic/255\r\n",
        "  plt.imshow(pic, cmap = plt.cm.binary)\r\n",
        "  figure = plt.gcf()\r\n",
        "  figure.set_size_inches(1,1)\r\n",
        "  plt.axis(\"off\")\r\n",
        "  plt.show()\r\n",
        "\r\n",
        "\r\n",
        "  print(y[0:10,ind])\r\n",
        "  print()\r\n"
      ],
      "execution_count": 5,
      "outputs": [
        {
          "output_type": "stream",
          "text": [
            "(1024, 1)\n"
          ],
          "name": "stdout"
        },
        {
          "output_type": "display_data",
          "data": {
            "text/plain": [
              "<Figure size 72x72 with 1 Axes>"
            ],
            "image/png": "[encoded data removed]"
          },
          "metadata": {
            "tags": [],
            "needs_background": "light"
          }
        },
        {
          "output_type": "stream",
          "text": [
            "[0. 0. 0. 0. 0. 0. 0. 0. 1. 0.]\n",
            "\n"
          ],
          "name": "stdout"
        },
        {
          "output_type": "display_data",
          "data": {
            "text/plain": [
              "<Figure size 72x72 with 1 Axes>"
            ],
            "image/png": "[encoded data removed]"
          },
          "metadata": {
            "tags": [],
            "needs_background": "light"
          }
        },
        {
          "output_type": "stream",
          "text": [
            "[0. 0. 1. 0. 0. 0. 0. 0. 0. 0.]\n",
            "\n"
          ],
          "name": "stdout"
        },
        {
          "output_type": "display_data",
          "data": {
            "text/plain": [
              "<Figure size 72x72 with 1 Axes>"
            ],
            "image/png": "[encoded data removed]"
          },
          "metadata": {
            "tags": [],
            "needs_background": "light"
          }
        },
        {
          "output_type": "stream",
          "text": [
            "[0. 1. 0. 0. 0. 0. 0. 0. 0. 0.]\n",
            "\n"
          ],
          "name": "stdout"
        },
        {
          "output_type": "display_data",
          "data": {
            "text/plain": [
              "<Figure size 72x72 with 1 Axes>"
            ],
            "image/png": "[encoded data removed]"
          },
          "metadata": {
            "tags": [],
            "needs_background": "light"
          }
        },
        {
          "output_type": "stream",
          "text": [
            "[0. 0. 0. 0. 0. 0. 0. 1. 0. 0.]\n",
            "\n"
          ],
          "name": "stdout"
        },
        {
          "output_type": "display_data",
          "data": {
            "text/plain": [
              "<Figure size 72x72 with 1 Axes>"
            ],
            "image/png": "[encoded data removed]"
          },
          "metadata": {
            "tags": [],
            "needs_background": "light"
          }
        },
        {
          "output_type": "stream",
          "text": [
            "[0. 0. 0. 0. 0. 0. 0. 0. 1. 0.]\n",
            "\n"
          ],
          "name": "stdout"
        },
        {
          "output_type": "display_data",
          "data": {
            "text/plain": [
              "<Figure size 72x72 with 1 Axes>"
            ],
            "image/png": "[encoded data removed]"
          },
          "metadata": {
            "tags": [],
            "needs_background": "light"
          }
        },
        {
          "output_type": "stream",
          "text": [
            "[0. 1. 0. 0. 0. 0. 0. 0. 0. 0.]\n",
            "\n"
          ],
          "name": "stdout"
        },
        {
          "output_type": "display_data",
          "data": {
            "text/plain": [
              "<Figure size 72x72 with 1 Axes>"
            ],
            "image/png": "[encoded data removed]"
          },
          "metadata": {
            "tags": [],
            "needs_background": "light"
          }
        },
        {
          "output_type": "stream",
          "text": [
            "[0. 0. 0. 0. 0. 1. 0. 0. 0. 0.]\n",
            "\n"
          ],
          "name": "stdout"
        },
        {
          "output_type": "display_data",
          "data": {
            "text/plain": [
              "<Figure size 72x72 with 1 Axes>"
            ],
            "image/png": "[encoded data removed]"
          },
          "metadata": {
            "tags": [],
            "needs_background": "light"
          }
        },
        {
          "output_type": "stream",
          "text": [
            "[0. 0. 1. 0. 0. 0. 0. 0. 0. 0.]\n",
            "\n"
          ],
          "name": "stdout"
        },
        {
          "output_type": "display_data",
          "data": {
            "text/plain": [
              "<Figure size 72x72 with 1 Axes>"
            ],
            "image/png": "[encoded data removed]"
          },
          "metadata": {
            "tags": [],
            "needs_background": "light"
          }
        },
        {
          "output_type": "stream",
          "text": [
            "[0. 0. 0. 0. 0. 0. 0. 0. 1. 0.]\n",
            "\n"
          ],
          "name": "stdout"
        },
        {
          "output_type": "display_data",
          "data": {
            "text/plain": [
              "<Figure size 72x72 with 1 Axes>"
            ],
            "image/png": "[encoded data removed]"
          },
          "metadata": {
            "tags": [],
            "needs_background": "light"
          }
        },
        {
          "output_type": "stream",
          "text": [
            "[0. 0. 0. 0. 0. 1. 0. 0. 0. 0.]\n",
            "\n"
          ],
          "name": "stdout"
        },
        {
          "output_type": "display_data",
          "data": {
            "text/plain": [
              "<Figure size 72x72 with 1 Axes>"
            ],
            "image/png": "[encoded data removed]"
          },
          "metadata": {
            "tags": [],
            "needs_background": "light"
          }
        },
        {
          "output_type": "stream",
          "text": [
            "[0. 0. 0. 0. 1. 0. 0. 0. 0. 0.]\n",
            "\n"
          ],
          "name": "stdout"
        }
      ]
    },
    {
      "cell_type": "code",
      "metadata": {
        "id": "xDCX4UKr5ZKZ"
      },
      "source": [
        "class model:\r\n",
        "  def __init__(self):\r\n",
        "    self.layers = []\r\n",
        "    self.number_of_layers = 0\r\n",
        "    self.weights = {}\r\n",
        "    self.bias = {}\r\n",
        "    self.activation = 'sigmoid'\r\n",
        "\r\n",
        "\r\n",
        "  def layer(self,n):\r\n",
        "    self.layers.append(n)\r\n",
        "    self.number_of_layers += 1\r\n",
        "    return\r\n",
        "\r\n",
        "  def set_activation(self,f):\r\n",
        "    self.activation = f\r\n",
        "    return\r\n",
        "\r\n",
        "  def initialize_weights(self):\r\n",
        "\r\n",
        "    numpy.random.seed(7)\r\n",
        "    l = self.number_of_layers\r\n",
        "\r\n",
        "    for i in range(l-1):\r\n",
        "      \r\n",
        "      if self.activation == 'erelu' or self.activation == 'relu':\r\n",
        "        w = numpy.random.randn( self.layers[i + 1], self.layers[i] ) * numpy.sqrt( 2 / self.layers[i] )\r\n",
        "      else:\r\n",
        "        wrange = numpy.sqrt( 6 / ( self.layers[i]+self.layers[i+1] ) )\r\n",
        "        w = numpy.random.uniform( wrange, -wrange, ( self.layers[i + 1], self.layers[i] ) )\r\n",
        "\r\n",
        "      b = numpy.zeros( ( self.layers[i + 1], 1) )\r\n",
        "      self.bias[i] = b\r\n",
        "      self.weights[i] = w\r\n",
        "  \r\n",
        "  def sigmoid(self,z):\r\n",
        "    return 1/(1 + numpy.exp(-z))\r\n",
        "\r\n",
        "  def erelu(self,z):\r\n",
        "    #e = numpy.where( z > 0, z, 0.2 * ( math.exp(z) - 1 ) )\r\n",
        "    e = ( (z > 0) * z) + ((z <= 0) * numpy.exp(z) * 0.2)\r\n",
        "    return e\r\n",
        "\r\n",
        "  def relu(self,z):\r\n",
        "    r = ( (z > 0) * z) + ((z <= 0) * z * 0.001)\r\n",
        "    return r\r\n",
        "\r\n",
        "\r\n",
        "  def hypothesis(self,x):\r\n",
        "    alist = []\r\n",
        "    zlist = []\r\n",
        "    alist.append(x)\r\n",
        "    for i in range( self.number_of_layers - 2 ):\r\n",
        "      z = numpy.dot( self.weights[i], x ) + self.bias[i]\r\n",
        "      zlist.append(z)\r\n",
        "      if self.activation == 'erelu':\r\n",
        "        a = self.erelu(z)\r\n",
        "      elif self.activation == 'relu':\r\n",
        "        a = self.relu(z)\r\n",
        "      else:\r\n",
        "        a = self.sigmoid(z)\r\n",
        "      alist.append(a)\r\n",
        "      x = a\r\n",
        "    z = numpy.dot( self.weights[self.number_of_layers - 2], x ) + self.bias[self.number_of_layers - 2]\r\n",
        "    zlist.append(z)\r\n",
        "    a = numpy.exp(z) / numpy.sum( numpy.exp(z), axis=0 )\r\n",
        "    alist.append(a)\r\n",
        "    h = a\r\n",
        "    return h,alist,zlist\r\n",
        "\r\n",
        "\r\n",
        "  def predict(self,x):\r\n",
        "    h, temp, temp1 = self.hypothesis(x)\r\n",
        "    cost=0\r\n",
        "    m=numpy.shape(h)[1]\r\n",
        "\r\n",
        "    for i in range(m):\r\n",
        "      if numpy.argmax( h[:,i:i+1] ) != numpy.argmax( y[:,i:i+1] ):\r\n",
        "        maxx = numpy.max(h[:,i:i+1])\r\n",
        "        cost += 1\r\n",
        "    return ((m-cost)/m)*100\r\n",
        "\r\n",
        "  def test(self):\r\n",
        "    print(\"EX\")\r\n"
      ],
      "execution_count": 6,
      "outputs": []
    },
    {
      "cell_type": "code",
      "metadata": {
        "id": "IUOxctw8Axgg"
      },
      "source": [
        "class trainer:\r\n",
        "  \r\n",
        "  def __init__(self,model,alpha,mini_batch,print_frequency,show_plot):\r\n",
        "    self.model = model\r\n",
        "    self.alpha = alpha\r\n",
        "    self.print_frequency = print_frequency\r\n",
        "    self.show_plot = show_plot\r\n",
        "\r\n",
        "\r\n",
        "\r\n",
        "  def Loss(self,h,y):\r\n",
        "    lsum = numpy.sum( numpy.multiply( y, numpy.log(h) ) )\r\n",
        "    return -lsum\r\n",
        "    \r\n",
        "    \r\n",
        "  def back_propagation(self,alist,zlist,x,h,y):\r\n",
        "    dwlist = {}\r\n",
        "    dblist = {}\r\n",
        "    num = self.model.number_of_layers-2\r\n",
        "    m = numpy.shape(x)[1]\r\n",
        "\r\n",
        "\r\n",
        "    dz = h - y\r\n",
        "    dw = (1./ m) * ( numpy.dot ( dz, alist[num].T ) )\r\n",
        "    db = (1./ m) * numpy.sum( dz, axis=1, keepdims = True)\r\n",
        "    dwlist[num] = dw\r\n",
        "    dblist[num] = db\r\n",
        "    num -= 1\r\n",
        "    \r\n",
        "\r\n",
        "    for i in range(num,-1,-1):\r\n",
        "      da = numpy.dot(self.model.weights[i+1].T, dz)\r\n",
        "      if self.model.activation == 'erelu':\r\n",
        "        z = zlist[i]\r\n",
        "        de = ( (z > 0) * 1) + ((z <= 0) * alist[i+1] * 0.2)\r\n",
        "        dz = da * de\r\n",
        "      elif self.model.activation == 'relu':\r\n",
        "        z = zlist[i]\r\n",
        "        dr = ( (z > 0) * 1) + ((z <= 0) * 0.1)\r\n",
        "        dz = da * de\r\n",
        "      else:\r\n",
        "        dz = da * alist[i+1] * (1-alist[i+1])\r\n",
        "      dw=(1./m) * ( numpy.dot(dz, alist[i].T) )\r\n",
        "      db=(1./m) * ( numpy.sum(dz, axis=1, keepdims = True) )\r\n",
        "      dwlist[i] = dw\r\n",
        "      dblist[i] = db\r\n",
        "\r\n",
        "    return dwlist,dblist\r\n",
        "\r\n",
        "  def mini_batch(self,x,y,batch_size):\r\n",
        "    batches = [] \r\n",
        "    data = numpy.vstack((x,y))\r\n",
        "    m = data.shape[1]\r\n",
        "    numpy.random.seed(7)\r\n",
        "    p = numpy.random.permutation(m)\r\n",
        "    data = data[:,p]\r\n",
        "    batch_count = (int)(data.shape[1]/batch_size)\r\n",
        "    x_size = numpy.shape(x)[0]\r\n",
        "    y_size = numpy.shape(y)[0]\r\n",
        "\r\n",
        "\r\n",
        "    for i in range(batch_count): \r\n",
        "        mini_batch = data[:,i*batch_size:(i+1)*batch_size] \r\n",
        "        xm = mini_batch[0:x_size,:] \r\n",
        "        ym = mini_batch[x_size:x_size+y_size,:]#.reshape((-1,1))\r\n",
        "        batches.append((xm,ym))\r\n",
        "        \r\n",
        "    return batches,batch_count\r\n",
        "\r\n",
        "\r\n",
        "  def train_model(self,x,y,x_test,y_test,epoch,batch_size):\r\n",
        "    loss_list = []\r\n",
        "    test_loss_list = []\r\n",
        "    for e in range(epoch):\r\n",
        "      batches,batch_count = self.mini_batch(x,y,batch_size)\r\n",
        "      loss = 0\r\n",
        "\r\n",
        "      for b in batches:\r\n",
        "        batch_x, batch_y = b\r\n",
        "        h, alist, zlist = self.model.hypothesis(batch_x)\r\n",
        "        dwlist, dblist = self.back_propagation(alist, zlist, batch_x, h, batch_y)\r\n",
        "\r\n",
        "\r\n",
        "        loss += self.Loss(h, batch_y)\r\n",
        "\r\n",
        "\r\n",
        "        for each in self.model.weights.keys():\r\n",
        "          self.model.weights[each] -= self.alpha * dwlist[each]\r\n",
        "          self.model.bias[each] -= self.alpha * dblist[each]\r\n",
        "      \r\n",
        "\r\n",
        "      h_test, aaa, xxx = self.model.hypothesis(x_test)\r\n",
        "      test_loss = self.Loss(h_test,y_test)\r\n",
        "      #loss*=batch_size/100000\r\n",
        "      loss_list.append(loss/50000)\r\n",
        "      test_loss_list.append(test_loss/10000)\r\n",
        "         \r\n",
        "\r\n",
        "      if e % self.print_frequency == 0:\r\n",
        "        acc = self.model.predict(x_test)\r\n",
        "        print(\"epoch: \",e,\" Loss: \",loss,\" Test Loss:\",test_loss,\" Acc:\",acc)\r\n",
        "    \r\n",
        "    if (self.show_plot==True):\r\n",
        "      plt.plot(loss_list,label='train loss')\r\n",
        "      plt.plot(test_loss_list,label='test loss')\r\n",
        "      plt.ylabel('loss')\r\n",
        "      plt.xlabel('iterations')\r\n",
        "      plt.show()\r\n",
        "    return self.model.weights\r\n"
      ],
      "execution_count": 7,
      "outputs": []
    },
    {
      "cell_type": "code",
      "metadata": {
        "id": "GJUQ2y_j2WN1"
      },
      "source": [
        "m=model()\r\n",
        "m.layer(1024)\r\n",
        "#m.layer(512)\r\n",
        "m.layer(216)\r\n",
        "#m.layer(108)\r\n",
        "m.layer(64)\r\n",
        "#m.layer(32)\r\n",
        "m.layer(16)\r\n",
        "m.layer(10)\r\n",
        "m.set_activation('erelu')\r\n",
        "m.initialize_weights()\r\n",
        "\r\n"
      ],
      "execution_count": 8,
      "outputs": []
    },
    {
      "cell_type": "code",
      "metadata": {
        "colab": {
          "base_uri": "https://localhost:8080/",
          "height": 1000
        },
        "id": "LOR7GT2V8026",
        "outputId": "a232de85-5a34-4b8d-8216-a84b0c523448"
      },
      "source": [
        "t=trainer(m,0.1,1,1,True)\r\n",
        "w=t.train_model(x,y,x_test,y_test,300,256)"
      ],
      "execution_count": 9,
      "outputs": [
        {
          "output_type": "stream",
          "text": [
            "epoch:  0  Loss:  110929.43660757875  Test Loss: 20984.390329510028  Acc: 10.13\n",
            "epoch:  1  Loss:  103899.16844709868  Test Loss: 20262.408463045078  Acc: 9.93\n",
            "epoch:  2  Loss:  100445.05263983879  Test Loss: 19866.04081637112  Acc: 9.67\n",
            "epoch:  3  Loss:  97845.9675872238  Test Loss: 19404.18875655429  Acc: 9.76\n",
            "epoch:  4  Loss:  95800.03251029312  Test Loss: 19263.57351866816  Acc: 9.84\n",
            "epoch:  5  Loss:  94287.11890358495  Test Loss: 18892.184662834356  Acc: 9.92\n",
            "epoch:  6  Loss:  92850.4173672713  Test Loss: 18555.493716941033  Acc: 10.11\n",
            "epoch:  7  Loss:  91741.86038222325  Test Loss: 18384.93645187222  Acc: 9.969999999999999\n",
            "epoch:  8  Loss:  90714.93676615498  Test Loss: 18155.845783122353  Acc: 10.12\n",
            "epoch:  9  Loss:  89762.67815664633  Test Loss: 17998.506796066442  Acc: 10.26\n",
            "epoch:  10  Loss:  88818.48389023381  Test Loss: 17921.497498337212  Acc: 10.05\n",
            "epoch:  11  Loss:  88009.41688663335  Test Loss: 17705.892591594922  Acc: 10.03\n",
            "epoch:  12  Loss:  87108.47269356922  Test Loss: 17578.55367435773  Acc: 10.08\n",
            "epoch:  13  Loss:  86360.20594924054  Test Loss: 17503.160496184384  Acc: 10.03\n",
            "epoch:  14  Loss:  85674.30772404959  Test Loss: 17347.066783009028  Acc: 10.11\n",
            "epoch:  15  Loss:  84848.55178484021  Test Loss: 17330.62715540179  Acc: 10.11\n",
            "epoch:  16  Loss:  84496.36053446766  Test Loss: 17142.818012081425  Acc: 9.790000000000001\n",
            "epoch:  17  Loss:  83773.73011870726  Test Loss: 17114.96034618752  Acc: 9.65\n",
            "epoch:  18  Loss:  83241.51104424952  Test Loss: 16942.18185217331  Acc: 9.959999999999999\n",
            "epoch:  19  Loss:  82782.5070368622  Test Loss: 16781.982921926767  Acc: 9.99\n",
            "epoch:  20  Loss:  82150.45102950712  Test Loss: 16785.561371608925  Acc: 10.05\n",
            "epoch:  21  Loss:  81569.0835033946  Test Loss: 16629.434607362316  Acc: 9.86\n",
            "epoch:  22  Loss:  81027.27802177552  Test Loss: 16683.5383375729  Acc: 10.09\n",
            "epoch:  23  Loss:  80677.63158370415  Test Loss: 16684.82717064748  Acc: 9.78\n",
            "epoch:  24  Loss:  80173.31885824227  Test Loss: 16648.32478017551  Acc: 9.87\n",
            "epoch:  25  Loss:  79726.43396909152  Test Loss: 16936.9374296995  Acc: 10.190000000000001\n",
            "epoch:  26  Loss:  79246.44929492108  Test Loss: 16795.696433866953  Acc: 9.94\n",
            "epoch:  27  Loss:  79036.16849883388  Test Loss: 16506.317320354974  Acc: 10.24\n",
            "epoch:  28  Loss:  78290.34010602592  Test Loss: 16616.227482092487  Acc: 10.190000000000001\n",
            "epoch:  29  Loss:  77933.79896263569  Test Loss: 16572.811665589135  Acc: 10.01\n",
            "epoch:  30  Loss:  77480.23954553896  Test Loss: 16667.25458629134  Acc: 10.23\n",
            "epoch:  31  Loss:  77132.48968952188  Test Loss: 16471.289116830863  Acc: 10.02\n",
            "epoch:  32  Loss:  76732.80274598561  Test Loss: 16389.60226945331  Acc: 9.879999999999999\n",
            "epoch:  33  Loss:  76344.77481532517  Test Loss: 16491.667367962647  Acc: 9.94\n",
            "epoch:  34  Loss:  76367.56699949231  Test Loss: 16573.44334929704  Acc: 9.87\n",
            "epoch:  35  Loss:  75773.87355531375  Test Loss: 16527.40375596933  Acc: 10.12\n",
            "epoch:  36  Loss:  75340.93984727944  Test Loss: 16481.59817952788  Acc: 10.040000000000001\n",
            "epoch:  37  Loss:  74959.4851759244  Test Loss: 16463.79467090041  Acc: 9.99\n",
            "epoch:  38  Loss:  74592.54439016424  Test Loss: 16399.63648993541  Acc: 10.07\n",
            "epoch:  39  Loss:  74493.8137870358  Test Loss: 16473.162104516134  Acc: 9.85\n",
            "epoch:  40  Loss:  74185.08094699532  Test Loss: 16597.584672411173  Acc: 10.059999999999999\n",
            "epoch:  41  Loss:  73685.91413045349  Test Loss: 16335.364874147797  Acc: 9.879999999999999\n",
            "epoch:  42  Loss:  73330.31467675272  Test Loss: 16623.838530009576  Acc: 10.03\n",
            "epoch:  43  Loss:  73121.37822728876  Test Loss: 16889.29210643372  Acc: 9.959999999999999\n",
            "epoch:  44  Loss:  73022.98765004396  Test Loss: 16582.93577210033  Acc: 10.34\n",
            "epoch:  45  Loss:  72351.24820748667  Test Loss: 16896.56359385438  Acc: 10.14\n",
            "epoch:  46  Loss:  72184.45226656707  Test Loss: 16571.421109111387  Acc: 10.040000000000001\n",
            "epoch:  47  Loss:  71861.65346931663  Test Loss: 16601.76093490518  Acc: 10.08\n",
            "epoch:  48  Loss:  71691.05472900654  Test Loss: 16541.340915519715  Acc: 10.01\n",
            "epoch:  49  Loss:  71278.34709896072  Test Loss: 16509.282893646323  Acc: 10.09\n",
            "epoch:  50  Loss:  71309.37460497128  Test Loss: 17093.543776295995  Acc: 10.23\n",
            "epoch:  51  Loss:  70806.37731062972  Test Loss: 16540.508902490717  Acc: 10.07\n",
            "epoch:  52  Loss:  70365.64542800108  Test Loss: 17303.27499494029  Acc: 10.18\n",
            "epoch:  53  Loss:  70252.3362559809  Test Loss: 17656.064713211414  Acc: 10.22\n",
            "epoch:  54  Loss:  70230.10451370814  Test Loss: 16629.40531487403  Acc: 10.22\n",
            "epoch:  55  Loss:  69569.80352876212  Test Loss: 16713.059918731884  Acc: 10.280000000000001\n",
            "epoch:  56  Loss:  69174.68618241764  Test Loss: 16799.140222345868  Acc: 9.89\n",
            "epoch:  57  Loss:  69198.06614993334  Test Loss: 16872.828261315433  Acc: 10.37\n",
            "epoch:  58  Loss:  69048.9463049231  Test Loss: 17033.97483764256  Acc: 10.37\n",
            "epoch:  59  Loss:  68400.34849311002  Test Loss: 17313.267947937627  Acc: 10.32\n",
            "epoch:  60  Loss:  68574.96769641197  Test Loss: 17215.917125858607  Acc: 10.48\n",
            "epoch:  61  Loss:  68058.42336861795  Test Loss: 16727.674246529194  Acc: 10.16\n",
            "epoch:  62  Loss:  67732.55827591041  Test Loss: 17474.939310723537  Acc: 10.39\n",
            "epoch:  63  Loss:  67458.44347345999  Test Loss: 17255.742965072597  Acc: 10.2\n",
            "epoch:  64  Loss:  67347.87775405779  Test Loss: 18429.334095174974  Acc: 10.13\n",
            "epoch:  65  Loss:  67315.100668917  Test Loss: 17156.972035691084  Acc: 10.38\n",
            "epoch:  66  Loss:  66556.38264011091  Test Loss: 16723.15834780384  Acc: 10.25\n",
            "epoch:  67  Loss:  66728.05012880775  Test Loss: 17266.633878448432  Acc: 10.18\n",
            "epoch:  68  Loss:  66422.58589492952  Test Loss: 16685.828516179747  Acc: 10.39\n",
            "epoch:  69  Loss:  66121.59785449077  Test Loss: 17050.359617100763  Acc: 10.24\n",
            "epoch:  70  Loss:  66194.15194741629  Test Loss: 16884.39201916378  Acc: 10.26\n",
            "epoch:  71  Loss:  65534.7709319136  Test Loss: 18245.973265422377  Acc: 10.12\n",
            "epoch:  72  Loss:  65367.90616067122  Test Loss: 16882.05896514193  Acc: 10.17\n",
            "epoch:  73  Loss:  65408.617939984295  Test Loss: 17635.60853484485  Acc: 10.18\n",
            "epoch:  74  Loss:  64997.139026509496  Test Loss: 17248.225294747663  Acc: 10.35\n",
            "epoch:  75  Loss:  64837.50792247936  Test Loss: 17089.786220636197  Acc: 10.35\n",
            "epoch:  76  Loss:  64736.03599426504  Test Loss: 17956.637794800718  Acc: 10.39\n",
            "epoch:  77  Loss:  64578.050326011384  Test Loss: 17020.50736904002  Acc: 10.32\n",
            "epoch:  78  Loss:  63921.216800233706  Test Loss: 17648.665635946585  Acc: 10.18\n",
            "epoch:  79  Loss:  63828.645633215594  Test Loss: 17988.02932178675  Acc: 10.0\n",
            "epoch:  80  Loss:  63744.01432707774  Test Loss: 18079.136703525117  Acc: 9.9\n",
            "epoch:  81  Loss:  64078.28761651829  Test Loss: 17892.04584128088  Acc: 10.23\n",
            "epoch:  82  Loss:  63034.27615039425  Test Loss: 17487.764384996855  Acc: 10.33\n",
            "epoch:  83  Loss:  62768.11399752656  Test Loss: 18501.11234277064  Acc: 10.03\n",
            "epoch:  84  Loss:  62886.38915780275  Test Loss: 17796.868527747753  Acc: 10.31\n",
            "epoch:  85  Loss:  62579.65317640157  Test Loss: 17424.461209329682  Acc: 10.43\n",
            "epoch:  86  Loss:  62534.23207122838  Test Loss: 18178.792726018368  Acc: 10.22\n",
            "epoch:  87  Loss:  62327.49469369041  Test Loss: 17982.999033166747  Acc: 10.32\n",
            "epoch:  88  Loss:  61957.590317308095  Test Loss: 17935.8789833416  Acc: 10.39\n",
            "epoch:  89  Loss:  61849.70259844448  Test Loss: 17760.15332689608  Acc: 10.39\n",
            "epoch:  90  Loss:  61507.5000126151  Test Loss: 18383.55501096597  Acc: 10.02\n",
            "epoch:  91  Loss:  61141.49067605419  Test Loss: 18170.160888901657  Acc: 10.040000000000001\n",
            "epoch:  92  Loss:  61042.57596690226  Test Loss: 18632.439755053983  Acc: 10.17\n",
            "epoch:  93  Loss:  60811.71934911292  Test Loss: 18890.604274895708  Acc: 10.440000000000001\n",
            "epoch:  94  Loss:  61059.95293451458  Test Loss: 18740.194316051045  Acc: 10.459999999999999\n",
            "epoch:  95  Loss:  60802.392458278206  Test Loss: 18922.353234553237  Acc: 10.45\n",
            "epoch:  96  Loss:  60220.06050865299  Test Loss: 18536.880874779185  Acc: 10.34\n",
            "epoch:  97  Loss:  60059.37489204204  Test Loss: 18248.396006121948  Acc: 10.03\n",
            "epoch:  98  Loss:  59648.62215889153  Test Loss: 20740.714993572332  Acc: 10.41\n",
            "epoch:  99  Loss:  60065.863244465276  Test Loss: 18806.203404158292  Acc: 10.36\n",
            "epoch:  100  Loss:  59098.027432585426  Test Loss: 17814.19912691034  Acc: 10.14\n",
            "epoch:  101  Loss:  59758.388064617546  Test Loss: 20438.13978068247  Acc: 10.27\n",
            "epoch:  102  Loss:  58822.605484225416  Test Loss: 18592.161389623318  Acc: 10.23\n",
            "epoch:  103  Loss:  58883.61774153081  Test Loss: 19057.852833374767  Acc: 10.26\n",
            "epoch:  104  Loss:  58841.10392091923  Test Loss: 18256.514692752553  Acc: 10.16\n",
            "epoch:  105  Loss:  58410.89095541129  Test Loss: 18586.495017290374  Acc: 9.59\n",
            "epoch:  106  Loss:  58312.49101067129  Test Loss: 18936.121272053937  Acc: 10.100000000000001\n",
            "epoch:  107  Loss:  58929.64643112286  Test Loss: 19247.65966655444  Acc: 10.35\n",
            "epoch:  108  Loss:  57725.09776931529  Test Loss: 19298.099750903104  Acc: 10.059999999999999\n",
            "epoch:  109  Loss:  57572.96970201624  Test Loss: 21334.373770006227  Acc: 10.05\n",
            "epoch:  110  Loss:  57961.14046466034  Test Loss: 18715.72595106953  Acc: 10.209999999999999\n",
            "epoch:  111  Loss:  57910.24104068109  Test Loss: 19289.43295068913  Acc: 10.209999999999999\n",
            "epoch:  112  Loss:  57157.48399812602  Test Loss: 18775.32984288951  Acc: 9.89\n",
            "epoch:  113  Loss:  57440.97484938929  Test Loss: 18605.057809014634  Acc: 10.190000000000001\n",
            "epoch:  114  Loss:  56921.5250884391  Test Loss: 18934.237722556885  Acc: 10.23\n",
            "epoch:  115  Loss:  56981.36288740244  Test Loss: 18644.574578006377  Acc: 10.07\n",
            "epoch:  116  Loss:  56297.138100472475  Test Loss: 18125.612293131573  Acc: 10.0\n",
            "epoch:  117  Loss:  56570.04351489527  Test Loss: 20556.72362672412  Acc: 10.33\n",
            "epoch:  118  Loss:  56358.62088678273  Test Loss: 19194.61754588522  Acc: 10.0\n",
            "epoch:  119  Loss:  56318.71156339683  Test Loss: 19196.727258874038  Acc: 9.879999999999999\n",
            "epoch:  120  Loss:  55714.15351771755  Test Loss: 19270.713415313534  Acc: 10.54\n",
            "epoch:  121  Loss:  55856.199476706446  Test Loss: 19223.31522808443  Acc: 10.17\n",
            "epoch:  122  Loss:  55521.31003856425  Test Loss: 19034.769539846933  Acc: 10.190000000000001\n",
            "epoch:  123  Loss:  55506.043007087035  Test Loss: 19297.025867799646  Acc: 9.75\n",
            "epoch:  124  Loss:  54942.494252791206  Test Loss: 19985.41523352215  Acc: 10.07\n",
            "epoch:  125  Loss:  55169.686836251756  Test Loss: 19361.92097341421  Acc: 9.969999999999999\n",
            "epoch:  126  Loss:  54978.30262149475  Test Loss: 20355.46281394215  Acc: 9.969999999999999\n",
            "epoch:  127  Loss:  54718.75372642611  Test Loss: 19300.257240121075  Acc: 10.14\n",
            "epoch:  128  Loss:  54551.1598049537  Test Loss: 20185.636490422738  Acc: 10.13\n",
            "epoch:  129  Loss:  54709.408893777836  Test Loss: 19178.26490933066  Acc: 10.32\n",
            "epoch:  130  Loss:  54227.62461817532  Test Loss: 19094.377619107796  Acc: 9.94\n",
            "epoch:  131  Loss:  54210.01794320372  Test Loss: 20269.13263912169  Acc: 10.34\n",
            "epoch:  132  Loss:  54289.14516006823  Test Loss: 18780.979785320706  Acc: 10.17\n",
            "epoch:  133  Loss:  53160.15034348329  Test Loss: 19528.031725774  Acc: 10.100000000000001\n",
            "epoch:  134  Loss:  53789.634697963535  Test Loss: 20482.03993487324  Acc: 10.14\n",
            "epoch:  135  Loss:  53199.081172496255  Test Loss: 20316.242931679637  Acc: 10.040000000000001\n",
            "epoch:  136  Loss:  53627.4371973905  Test Loss: 20352.959358054548  Acc: 9.969999999999999\n",
            "epoch:  137  Loss:  53118.97030901029  Test Loss: 19959.627860489574  Acc: 10.0\n",
            "epoch:  138  Loss:  52951.68069157393  Test Loss: 21082.360261335176  Acc: 10.12\n",
            "epoch:  139  Loss:  53033.10821229504  Test Loss: 19580.995777491193  Acc: 10.17\n",
            "epoch:  140  Loss:  52490.99852201328  Test Loss: 21300.340653175783  Acc: 10.2\n",
            "epoch:  141  Loss:  52648.83088765818  Test Loss: 20943.324683770206  Acc: 9.969999999999999\n",
            "epoch:  142  Loss:  52086.70485632088  Test Loss: 20559.38595706655  Acc: 10.33\n",
            "epoch:  143  Loss:  52044.672332077076  Test Loss: 20892.199907842907  Acc: 10.12\n",
            "epoch:  144  Loss:  52113.86576743912  Test Loss: 21301.99377345987  Acc: 10.08\n",
            "epoch:  145  Loss:  52043.72660216965  Test Loss: 20070.412119158893  Acc: 10.17\n",
            "epoch:  146  Loss:  52100.15868997785  Test Loss: 20355.15356635969  Acc: 10.35\n",
            "epoch:  147  Loss:  51765.48983233153  Test Loss: 20119.40388762457  Acc: 10.14\n",
            "epoch:  148  Loss:  51362.1611190267  Test Loss: 20002.305455071997  Acc: 9.93\n",
            "epoch:  149  Loss:  51260.4828604528  Test Loss: 23043.624948600493  Acc: 10.209999999999999\n",
            "epoch:  150  Loss:  50830.75664928358  Test Loss: 20873.192501655132  Acc: 10.02\n",
            "epoch:  151  Loss:  51042.41527134017  Test Loss: 20270.4746004801  Acc: 10.13\n",
            "epoch:  152  Loss:  51038.31902589165  Test Loss: 20660.497340913927  Acc: 9.9\n",
            "epoch:  153  Loss:  50774.9499862086  Test Loss: 19971.59821372954  Acc: 10.14\n",
            "epoch:  154  Loss:  50919.841933780386  Test Loss: 21627.12969748796  Acc: 10.299999999999999\n",
            "epoch:  155  Loss:  50379.78044368688  Test Loss: 20809.21769807391  Acc: 10.059999999999999\n",
            "epoch:  156  Loss:  50667.48461228722  Test Loss: 20522.667582940885  Acc: 10.299999999999999\n",
            "epoch:  157  Loss:  50074.2730595095  Test Loss: 21218.69962612641  Acc: 10.18\n",
            "epoch:  158  Loss:  49896.77341236998  Test Loss: 20773.899647421436  Acc: 10.059999999999999\n",
            "epoch:  159  Loss:  50217.27556665597  Test Loss: 20566.379875934443  Acc: 9.98\n",
            "epoch:  160  Loss:  49857.125315704856  Test Loss: 19835.541112613046  Acc: 9.92\n",
            "epoch:  161  Loss:  49742.71201544592  Test Loss: 21642.623677719177  Acc: 10.37\n",
            "epoch:  162  Loss:  49274.89434176476  Test Loss: 20987.680470540963  Acc: 10.15\n",
            "epoch:  163  Loss:  49324.9882693164  Test Loss: 19952.593207000467  Acc: 10.209999999999999\n",
            "epoch:  164  Loss:  49086.010075285725  Test Loss: 20910.518949495403  Acc: 10.100000000000001\n",
            "epoch:  165  Loss:  49127.90900539975  Test Loss: 22002.810871424263  Acc: 10.290000000000001\n",
            "epoch:  166  Loss:  48403.416374732005  Test Loss: 21352.090884357407  Acc: 10.08\n",
            "epoch:  167  Loss:  49260.07857649134  Test Loss: 20563.326495360372  Acc: 9.94\n",
            "epoch:  168  Loss:  48373.87816243426  Test Loss: 20936.149628882715  Acc: 10.23\n",
            "epoch:  169  Loss:  48637.889503204126  Test Loss: 21716.386557677426  Acc: 10.14\n",
            "epoch:  170  Loss:  48127.997266116865  Test Loss: 21443.655799623873  Acc: 9.82\n",
            "epoch:  171  Loss:  48007.1636167406  Test Loss: 22234.809949764254  Acc: 10.459999999999999\n",
            "epoch:  172  Loss:  48266.22740394273  Test Loss: 21284.762262760043  Acc: 10.01\n",
            "epoch:  173  Loss:  47560.34610993317  Test Loss: 22708.77546969589  Acc: 9.969999999999999\n",
            "epoch:  174  Loss:  48426.71124504611  Test Loss: 20534.12703092511  Acc: 10.0\n",
            "epoch:  175  Loss:  46458.6593662909  Test Loss: 21356.191757362143  Acc: 10.08\n",
            "epoch:  176  Loss:  48254.1252570908  Test Loss: 22623.442395421956  Acc: 10.12\n",
            "epoch:  177  Loss:  47335.263563446235  Test Loss: 22951.6853694607  Acc: 10.15\n",
            "epoch:  178  Loss:  47537.76973187459  Test Loss: 23927.482982336056  Acc: 10.38\n",
            "epoch:  179  Loss:  47860.069295071306  Test Loss: 20882.5647816336  Acc: 10.2\n",
            "epoch:  180  Loss:  46796.74955657844  Test Loss: 21449.990931555265  Acc: 10.34\n",
            "epoch:  181  Loss:  47433.7583103061  Test Loss: 22609.896110522346  Acc: 10.36\n",
            "epoch:  182  Loss:  47074.49349214696  Test Loss: 21208.161721251596  Acc: 9.91\n",
            "epoch:  183  Loss:  46361.142576411075  Test Loss: 24054.26950746407  Acc: 9.92\n",
            "epoch:  184  Loss:  46304.63870923325  Test Loss: 22774.53264601032  Acc: 10.02\n",
            "epoch:  185  Loss:  45914.35650927706  Test Loss: 23913.093694028117  Acc: 10.05\n",
            "epoch:  186  Loss:  46470.75321508116  Test Loss: 21721.416184254984  Acc: 10.18\n",
            "epoch:  187  Loss:  45698.87128382945  Test Loss: 23644.13722365968  Acc: 9.87\n",
            "epoch:  188  Loss:  46383.13194515376  Test Loss: 22501.101545056616  Acc: 10.059999999999999\n",
            "epoch:  189  Loss:  45633.93135578782  Test Loss: 22449.19799808824  Acc: 10.16\n",
            "epoch:  190  Loss:  45920.761870980605  Test Loss: 24460.996700382228  Acc: 10.280000000000001\n",
            "epoch:  191  Loss:  45539.18136174452  Test Loss: 24160.94517713667  Acc: 10.48\n",
            "epoch:  192  Loss:  45669.43658329222  Test Loss: 22426.923217839303  Acc: 9.950000000000001\n",
            "epoch:  193  Loss:  45920.911477952606  Test Loss: 24224.068669426433  Acc: 10.13\n",
            "epoch:  194  Loss:  45349.0662034994  Test Loss: 22303.738196609484  Acc: 9.959999999999999\n",
            "epoch:  195  Loss:  45156.99857271688  Test Loss: 23529.16993798343  Acc: 10.290000000000001\n",
            "epoch:  196  Loss:  45592.68423301604  Test Loss: 24932.831222671077  Acc: 10.33\n",
            "epoch:  197  Loss:  45576.74502578775  Test Loss: 22569.426615126587  Acc: 10.530000000000001\n",
            "epoch:  198  Loss:  45127.002207199344  Test Loss: 23820.645929298928  Acc: 10.08\n",
            "epoch:  199  Loss:  44526.71082131241  Test Loss: 22808.21730834119  Acc: 10.09\n",
            "epoch:  200  Loss:  45097.54247863624  Test Loss: 22267.958443348136  Acc: 10.0\n",
            "epoch:  201  Loss:  43795.40885496051  Test Loss: 22856.620563587145  Acc: 10.35\n",
            "epoch:  202  Loss:  44256.12062755281  Test Loss: 23105.55719384065  Acc: 9.99\n",
            "epoch:  203  Loss:  44348.321822903956  Test Loss: 23606.19607681249  Acc: 10.39\n",
            "epoch:  204  Loss:  44357.38967834187  Test Loss: 22828.04248461251  Acc: 10.23\n",
            "epoch:  205  Loss:  43978.67521137774  Test Loss: 22347.121354490995  Acc: 10.13\n",
            "epoch:  206  Loss:  44576.14948764176  Test Loss: 25050.233080011632  Acc: 10.41\n",
            "epoch:  207  Loss:  43372.149257804136  Test Loss: 23788.315319309222  Acc: 10.02\n",
            "epoch:  208  Loss:  42728.70601508578  Test Loss: 22928.583754165655  Acc: 9.94\n",
            "epoch:  209  Loss:  43910.1573992232  Test Loss: 25507.481550666264  Acc: 10.02\n",
            "epoch:  210  Loss:  43393.769841321846  Test Loss: 23559.82013547447  Acc: 10.2\n",
            "epoch:  211  Loss:  43607.647934429086  Test Loss: 23470.41048475282  Acc: 9.969999999999999\n",
            "epoch:  212  Loss:  43653.62791204957  Test Loss: 23496.55831157983  Acc: 10.2\n",
            "epoch:  213  Loss:  42706.16876593747  Test Loss: 24767.19846379999  Acc: 10.299999999999999\n",
            "epoch:  214  Loss:  43351.629735903225  Test Loss: 23698.445412435307  Acc: 10.25\n",
            "epoch:  215  Loss:  42797.02159506057  Test Loss: 23867.497090956676  Acc: 10.36\n",
            "epoch:  216  Loss:  43470.02812107798  Test Loss: 23122.71848091748  Acc: 10.08\n",
            "epoch:  217  Loss:  42795.520334320885  Test Loss: 24869.51905646925  Acc: 10.100000000000001\n",
            "epoch:  218  Loss:  41512.653309760055  Test Loss: 26097.28925561015  Acc: 10.0\n",
            "epoch:  219  Loss:  42863.42078407078  Test Loss: 23854.317819129796  Acc: 10.05\n",
            "epoch:  220  Loss:  41959.73182444622  Test Loss: 23518.274056617804  Acc: 10.02\n",
            "epoch:  221  Loss:  42514.805152052184  Test Loss: 24228.663065364948  Acc: 10.26\n",
            "epoch:  222  Loss:  42696.09756689788  Test Loss: 23522.810436401225  Acc: 10.23\n",
            "epoch:  223  Loss:  41291.32450686282  Test Loss: 23394.031578495997  Acc: 10.01\n",
            "epoch:  224  Loss:  41619.62736534293  Test Loss: 24353.786695891704  Acc: 10.26\n",
            "epoch:  225  Loss:  41428.588743828135  Test Loss: 25673.22404943978  Acc: 10.03\n",
            "epoch:  226  Loss:  42130.620591784376  Test Loss: 25184.893487922942  Acc: 9.91\n",
            "epoch:  227  Loss:  41684.875272041354  Test Loss: 25919.59310636726  Acc: 10.2\n",
            "epoch:  228  Loss:  41229.565811358436  Test Loss: 25567.39857953447  Acc: 10.209999999999999\n",
            "epoch:  229  Loss:  41196.303360292746  Test Loss: 24723.89880723549  Acc: 10.13\n",
            "epoch:  230  Loss:  41460.22808620119  Test Loss: 22959.95609806184  Acc: 10.03\n",
            "epoch:  231  Loss:  40464.180335958794  Test Loss: 25897.834912846312  Acc: 10.01\n",
            "epoch:  232  Loss:  40924.14973648446  Test Loss: 27110.501697010615  Acc: 10.32\n",
            "epoch:  233  Loss:  39939.735866603005  Test Loss: 25627.536126112882  Acc: 9.959999999999999\n",
            "epoch:  234  Loss:  41595.698576896764  Test Loss: 26968.949713430433  Acc: 10.08\n",
            "epoch:  235  Loss:  41012.04241479871  Test Loss: 25790.083134566794  Acc: 10.11\n",
            "epoch:  236  Loss:  41076.627176477516  Test Loss: 24362.4608816011  Acc: 10.01\n",
            "epoch:  237  Loss:  40171.42092367114  Test Loss: 24921.741207470914  Acc: 10.22\n",
            "epoch:  238  Loss:  40621.467031827226  Test Loss: 26685.24606134592  Acc: 10.03\n",
            "epoch:  239  Loss:  40802.19100364713  Test Loss: 25012.84189855569  Acc: 10.33\n",
            "epoch:  240  Loss:  39925.87829763046  Test Loss: 25557.05583096003  Acc: 10.13\n",
            "epoch:  241  Loss:  41192.765779506975  Test Loss: 25376.13328147842  Acc: 10.280000000000001\n",
            "epoch:  242  Loss:  40173.8737170654  Test Loss: 24979.175505768773  Acc: 10.100000000000001\n",
            "epoch:  243  Loss:  39673.133344608614  Test Loss: 24959.220315493403  Acc: 10.489999999999998\n",
            "epoch:  244  Loss:  39626.39753024378  Test Loss: 25629.69428516491  Acc: 10.15\n",
            "epoch:  245  Loss:  40294.8308614715  Test Loss: 25364.138061846064  Acc: 9.99\n",
            "epoch:  246  Loss:  39677.56950219916  Test Loss: 27216.00350979191  Acc: 10.25\n",
            "epoch:  247  Loss:  39506.54712185269  Test Loss: 26364.867406993155  Acc: 10.040000000000001\n",
            "epoch:  248  Loss:  38772.736479984946  Test Loss: 27448.49549468653  Acc: 10.059999999999999\n",
            "epoch:  249  Loss:  39072.05065943823  Test Loss: 27313.797531919976  Acc: 10.17\n",
            "epoch:  250  Loss:  40294.893720407286  Test Loss: 25739.76578308157  Acc: 10.31\n",
            "epoch:  251  Loss:  39125.37901792826  Test Loss: 31230.019885893533  Acc: 9.8\n",
            "epoch:  252  Loss:  39608.27751771007  Test Loss: 26409.65626582534  Acc: 10.15\n",
            "epoch:  253  Loss:  38245.25768045551  Test Loss: 26126.171653738595  Acc: 10.33\n",
            "epoch:  254  Loss:  39413.48408468024  Test Loss: 25338.656952080837  Acc: 10.2\n",
            "epoch:  255  Loss:  39239.859427302625  Test Loss: 25261.66943959068  Acc: 10.11\n",
            "epoch:  256  Loss:  38025.94232599298  Test Loss: 27499.229452213167  Acc: 10.209999999999999\n",
            "epoch:  257  Loss:  37717.700593072455  Test Loss: 26513.511581447754  Acc: 10.13\n",
            "epoch:  258  Loss:  39786.89678748461  Test Loss: 26438.667867973607  Acc: 10.11\n",
            "epoch:  259  Loss:  37582.63842317653  Test Loss: 28746.023884776994  Acc: 10.22\n",
            "epoch:  260  Loss:  37660.39836168319  Test Loss: 26829.014164439184  Acc: 10.209999999999999\n",
            "epoch:  261  Loss:  38385.210182604795  Test Loss: 26934.162558636697  Acc: 10.18\n",
            "epoch:  262  Loss:  39361.13043820853  Test Loss: 26998.797274201388  Acc: 10.4\n",
            "epoch:  263  Loss:  37268.365927789666  Test Loss: 29195.890216598356  Acc: 10.059999999999999\n",
            "epoch:  264  Loss:  38052.81568797439  Test Loss: 26386.428826212934  Acc: 10.07\n",
            "epoch:  265  Loss:  39030.3026842336  Test Loss: 26996.624363322182  Acc: 10.14\n",
            "epoch:  266  Loss:  36906.84660134001  Test Loss: 27786.276448950397  Acc: 9.74\n",
            "epoch:  267  Loss:  37508.50558192801  Test Loss: 28008.37840584753  Acc: 9.99\n",
            "epoch:  268  Loss:  37309.16746555866  Test Loss: 27966.29732702438  Acc: 10.09\n",
            "epoch:  269  Loss:  37332.82709755876  Test Loss: 27049.947461099262  Acc: 10.37\n",
            "epoch:  270  Loss:  36850.79251349232  Test Loss: 26727.347128546786  Acc: 10.11\n",
            "epoch:  271  Loss:  38665.06652151575  Test Loss: 27730.921933037873  Acc: 10.549999999999999\n",
            "epoch:  272  Loss:  36833.722588717355  Test Loss: 27309.677183325246  Acc: 10.25\n",
            "epoch:  273  Loss:  37426.49989939277  Test Loss: 28428.054914047836  Acc: 10.32\n",
            "epoch:  274  Loss:  36415.348002243474  Test Loss: 27060.85908965437  Acc: 10.32\n",
            "epoch:  275  Loss:  37315.24286291341  Test Loss: 26820.914831040394  Acc: 10.05\n",
            "epoch:  276  Loss:  36989.43356555764  Test Loss: 29041.490683942797  Acc: 10.07\n",
            "epoch:  277  Loss:  36369.31487351639  Test Loss: 27537.49425415079  Acc: 10.15\n",
            "epoch:  278  Loss:  36051.2461497512  Test Loss: 35637.70728082769  Acc: 10.05\n",
            "epoch:  279  Loss:  38034.11374991416  Test Loss: 27115.942990166528  Acc: 10.25\n",
            "epoch:  280  Loss:  36418.58191699595  Test Loss: 27984.933029801272  Acc: 10.23\n",
            "epoch:  281  Loss:  35840.79685659039  Test Loss: 27850.508443673592  Acc: 10.17\n",
            "epoch:  282  Loss:  37008.01208373189  Test Loss: 27414.38749665525  Acc: 10.100000000000001\n",
            "epoch:  283  Loss:  36017.56412671597  Test Loss: 29675.118847825957  Acc: 10.22\n",
            "epoch:  284  Loss:  37444.58683891173  Test Loss: 27294.88832279596  Acc: 10.25\n",
            "epoch:  285  Loss:  35002.67959356111  Test Loss: 29166.03834261285  Acc: 10.32\n",
            "epoch:  286  Loss:  36102.11543655899  Test Loss: 27907.093634309986  Acc: 10.32\n",
            "epoch:  287  Loss:  35826.853492892384  Test Loss: 28505.595847507124  Acc: 10.440000000000001\n",
            "epoch:  288  Loss:  36375.858666271124  Test Loss: 31115.587958613287  Acc: 10.280000000000001\n",
            "epoch:  289  Loss:  36350.79421758297  Test Loss: 28916.46129985541  Acc: 10.26\n",
            "epoch:  290  Loss:  34938.05548769149  Test Loss: 28233.658046304517  Acc: 10.280000000000001\n",
            "epoch:  291  Loss:  35569.880783635475  Test Loss: 28317.95289072337  Acc: 10.51\n",
            "epoch:  292  Loss:  36146.87971382646  Test Loss: 28347.98681470141  Acc: 10.09\n",
            "epoch:  293  Loss:  35166.970336234226  Test Loss: 28678.83409771385  Acc: 10.34\n",
            "epoch:  294  Loss:  35767.51490020287  Test Loss: 30033.610603997648  Acc: 10.13\n",
            "epoch:  295  Loss:  35885.503588630985  Test Loss: 29781.35629777476  Acc: 10.16\n",
            "epoch:  296  Loss:  34998.8110862878  Test Loss: 30687.187379739138  Acc: 10.14\n",
            "epoch:  297  Loss:  36724.545835923134  Test Loss: 28295.47956514923  Acc: 10.32\n",
            "epoch:  298  Loss:  35276.20536992412  Test Loss: 28628.137569832397  Acc: 10.5\n",
            "epoch:  299  Loss:  33760.29310190767  Test Loss: 28146.612440739762  Acc: 10.24\n"
          ],
          "name": "stdout"
        },
        {
          "output_type": "display_data",
          "data": {
            "text/plain": [
              "<Figure size 432x288 with 1 Axes>"
            ],
            "image/png": "[encoded data removed]"
          },
          "metadata": {
            "tags": [],
            "needs_background": "light"
          }
        }
      ]
    },
    {
      "cell_type": "code",
      "metadata": {
        "colab": {
          "base_uri": "https://localhost:8080/",
          "height": 1000
        },
        "id": "I0ZEtnXoMxof",
        "outputId": "dfa27161-17f4-4957-82a3-c5f6d17ec53d"
      },
      "source": [
        "del w\r\n",
        "t=trainer(m,0.01,1,1,True)\r\n",
        "w=t.train_model(x,y,x_test,y_test,100,128)"
      ],
      "execution_count": 11,
      "outputs": [
        {
          "output_type": "stream",
          "text": [
            "epoch:  0  Loss:  28184.735918644597  Test Loss: 27989.62558482435  Acc: 10.12\n",
            "epoch:  1  Loss:  27274.16952978291  Test Loss: 28334.575724059465  Acc: 10.05\n",
            "epoch:  2  Loss:  26827.163086811383  Test Loss: 28632.181623888046  Acc: 10.05\n",
            "epoch:  3  Loss:  26474.86895921007  Test Loss: 28867.81242370922  Acc: 10.12\n",
            "epoch:  4  Loss:  26233.42002632441  Test Loss: 29075.041620162  Acc: 10.059999999999999\n",
            "epoch:  5  Loss:  25993.840288380983  Test Loss: 29303.812764131246  Acc: 10.01\n",
            "epoch:  6  Loss:  25744.860054872977  Test Loss: 29526.47907677947  Acc: 10.01\n",
            "epoch:  7  Loss:  25530.755238969974  Test Loss: 29714.583777148364  Acc: 10.02\n",
            "epoch:  8  Loss:  25360.103845209313  Test Loss: 29916.63299229499  Acc: 10.08\n",
            "epoch:  9  Loss:  25143.72907482492  Test Loss: 30074.464071332368  Acc: 10.03\n",
            "epoch:  10  Loss:  24983.179027126134  Test Loss: 30310.40007350909  Acc: 10.05\n",
            "epoch:  11  Loss:  24806.33250837362  Test Loss: 30532.188831019652  Acc: 10.02\n",
            "epoch:  12  Loss:  24636.532368478765  Test Loss: 30688.694648702905  Acc: 9.969999999999999\n",
            "epoch:  13  Loss:  24494.20791138916  Test Loss: 30866.348946759914  Acc: 10.05\n",
            "epoch:  14  Loss:  24349.157941429505  Test Loss: 31034.592890839514  Acc: 10.02\n",
            "epoch:  15  Loss:  24195.26476433594  Test Loss: 31242.239072047763  Acc: 10.01\n",
            "epoch:  16  Loss:  24068.12098192304  Test Loss: 31445.161126319053  Acc: 10.07\n",
            "epoch:  17  Loss:  23938.441435085657  Test Loss: 31566.335790569712  Acc: 10.01\n",
            "epoch:  18  Loss:  23780.612600191394  Test Loss: 31774.991317091153  Acc: 9.94\n",
            "epoch:  19  Loss:  23673.381453943297  Test Loss: 31929.912220718445  Acc: 10.05\n",
            "epoch:  20  Loss:  23530.868032460257  Test Loss: 32120.276489547334  Acc: 9.87\n",
            "epoch:  21  Loss:  23395.3781655977  Test Loss: 32244.01839580684  Acc: 9.78\n",
            "epoch:  22  Loss:  23289.365831434057  Test Loss: 32454.274894202747  Acc: 9.9\n",
            "epoch:  23  Loss:  23165.277120154013  Test Loss: 32599.281927440672  Acc: 9.9\n",
            "epoch:  24  Loss:  23035.338492175597  Test Loss: 32774.6311021163  Acc: 9.950000000000001\n",
            "epoch:  25  Loss:  22926.2339467086  Test Loss: 32995.34565065848  Acc: 9.89\n",
            "epoch:  26  Loss:  22799.22876116449  Test Loss: 33126.54424406704  Acc: 9.790000000000001\n",
            "epoch:  27  Loss:  22706.69688779119  Test Loss: 33316.126686758544  Acc: 9.87\n",
            "epoch:  28  Loss:  22601.310910661196  Test Loss: 33482.269057532336  Acc: 9.84\n",
            "epoch:  29  Loss:  22496.801565801816  Test Loss: 33627.904791075875  Acc: 10.01\n",
            "epoch:  30  Loss:  22389.79664944742  Test Loss: 33799.367237263126  Acc: 9.950000000000001\n",
            "epoch:  31  Loss:  22274.14351441978  Test Loss: 33963.231630403876  Acc: 9.91\n",
            "epoch:  32  Loss:  22167.762355371186  Test Loss: 34095.59820065921  Acc: 9.89\n",
            "epoch:  33  Loss:  22071.568004755547  Test Loss: 34253.27901789503  Acc: 9.950000000000001\n",
            "epoch:  34  Loss:  21954.408591699197  Test Loss: 34445.44668491662  Acc: 9.92\n",
            "epoch:  35  Loss:  21840.195724970486  Test Loss: 34632.042338202285  Acc: 9.8\n",
            "epoch:  36  Loss:  21737.91894820668  Test Loss: 34761.172895476535  Acc: 9.93\n",
            "epoch:  37  Loss:  21652.697936921093  Test Loss: 34875.515052339426  Acc: 9.86\n",
            "epoch:  38  Loss:  21545.002671457438  Test Loss: 35074.10658314786  Acc: 9.9\n",
            "epoch:  39  Loss:  21440.613756699957  Test Loss: 35200.8917890947  Acc: 9.790000000000001\n",
            "epoch:  40  Loss:  21342.87111026093  Test Loss: 35379.746269078816  Acc: 9.84\n",
            "epoch:  41  Loss:  21271.393236254782  Test Loss: 35546.14929499344  Acc: 9.81\n",
            "epoch:  42  Loss:  21198.48735318862  Test Loss: 35643.96843141193  Acc: 9.8\n",
            "epoch:  43  Loss:  21083.767170891057  Test Loss: 35883.95114637182  Acc: 9.89\n",
            "epoch:  44  Loss:  20983.432352037875  Test Loss: 35987.03634557661  Acc: 9.86\n",
            "epoch:  45  Loss:  20896.824488542883  Test Loss: 36153.00473743612  Acc: 9.87\n",
            "epoch:  46  Loss:  20811.564584255855  Test Loss: 36309.01066588533  Acc: 9.879999999999999\n",
            "epoch:  47  Loss:  20712.280918941233  Test Loss: 36532.89302903663  Acc: 9.85\n",
            "epoch:  48  Loss:  20598.955285185206  Test Loss: 36674.01707336041  Acc: 9.92\n",
            "epoch:  49  Loss:  20545.922459849422  Test Loss: 36748.01071699149  Acc: 9.92\n",
            "epoch:  50  Loss:  20441.1264430433  Test Loss: 36942.223696234614  Acc: 9.86\n",
            "epoch:  51  Loss:  20351.9294732673  Test Loss: 37092.29909558293  Acc: 9.969999999999999\n",
            "epoch:  52  Loss:  20252.491585619402  Test Loss: 37244.06411552087  Acc: 9.91\n",
            "epoch:  53  Loss:  20165.27237019093  Test Loss: 37360.037446926144  Acc: 9.93\n",
            "epoch:  54  Loss:  20099.757026687916  Test Loss: 37549.106216041095  Acc: 10.01\n",
            "epoch:  55  Loss:  19984.509974398115  Test Loss: 37720.4905241779  Acc: 9.94\n",
            "epoch:  56  Loss:  19899.900228663333  Test Loss: 37809.17042488003  Acc: 9.89\n",
            "epoch:  57  Loss:  19823.47080596192  Test Loss: 38021.296757354794  Acc: 9.87\n",
            "epoch:  58  Loss:  19735.746971173423  Test Loss: 38167.447701507364  Acc: 9.93\n",
            "epoch:  59  Loss:  19662.805629201048  Test Loss: 38349.81199986244  Acc: 9.93\n",
            "epoch:  60  Loss:  19574.44859021745  Test Loss: 38513.83038726988  Acc: 9.98\n",
            "epoch:  61  Loss:  19499.628076258607  Test Loss: 38691.82778789391  Acc: 9.98\n",
            "epoch:  62  Loss:  19417.161676965196  Test Loss: 38776.07505204128  Acc: 10.02\n",
            "epoch:  63  Loss:  19339.239594699044  Test Loss: 38998.393539121236  Acc: 10.03\n",
            "epoch:  64  Loss:  19261.175561999185  Test Loss: 39099.92144485747  Acc: 10.05\n",
            "epoch:  65  Loss:  19168.75609811799  Test Loss: 39246.05524699923  Acc: 9.959999999999999\n",
            "epoch:  66  Loss:  19092.382898157688  Test Loss: 39463.2122809361  Acc: 10.09\n",
            "epoch:  67  Loss:  19033.45820866847  Test Loss: 39609.71895042763  Acc: 10.05\n",
            "epoch:  68  Loss:  18968.77018544633  Test Loss: 39869.53457369923  Acc: 10.07\n",
            "epoch:  69  Loss:  18853.911712252262  Test Loss: 39979.86610153534  Acc: 10.02\n",
            "epoch:  70  Loss:  18788.220835245826  Test Loss: 40111.50293812875  Acc: 10.11\n",
            "epoch:  71  Loss:  18717.846620795477  Test Loss: 40269.58052671817  Acc: 9.959999999999999\n",
            "epoch:  72  Loss:  18619.383920035718  Test Loss: 40442.728720132814  Acc: 9.98\n",
            "epoch:  73  Loss:  18543.968342122746  Test Loss: 40602.80525181366  Acc: 10.059999999999999\n",
            "epoch:  74  Loss:  18471.39422267504  Test Loss: 40804.4795433817  Acc: 9.99\n",
            "epoch:  75  Loss:  18390.143036772508  Test Loss: 40966.44085370875  Acc: 10.07\n",
            "epoch:  76  Loss:  18320.414070970706  Test Loss: 41098.57481326464  Acc: 10.16\n",
            "epoch:  77  Loss:  18251.43314001162  Test Loss: 41280.19182508194  Acc: 9.85\n",
            "epoch:  78  Loss:  18175.82309003102  Test Loss: 41448.411671316644  Acc: 9.950000000000001\n",
            "epoch:  79  Loss:  18093.790992060436  Test Loss: 41597.84755228911  Acc: 9.98\n",
            "epoch:  80  Loss:  18009.419803964007  Test Loss: 41821.83184160533  Acc: 9.91\n",
            "epoch:  81  Loss:  17957.102776482763  Test Loss: 41894.821331745734  Acc: 10.03\n",
            "epoch:  82  Loss:  17857.787204332926  Test Loss: 42046.702516677426  Acc: 10.059999999999999\n",
            "epoch:  83  Loss:  17795.654630947734  Test Loss: 42185.08389024536  Acc: 9.98\n",
            "epoch:  84  Loss:  17714.79677689019  Test Loss: 42300.254722669604  Acc: 9.959999999999999\n",
            "epoch:  85  Loss:  17640.08950237531  Test Loss: 42551.88786344064  Acc: 10.03\n",
            "epoch:  86  Loss:  17602.539336829504  Test Loss: 42691.311141998835  Acc: 10.08\n",
            "epoch:  87  Loss:  17495.44372839662  Test Loss: 42892.693718404524  Acc: 10.07\n",
            "epoch:  88  Loss:  17437.502166167003  Test Loss: 43046.15612460459  Acc: 10.17\n",
            "epoch:  89  Loss:  17354.899022390233  Test Loss: 43171.37500508318  Acc: 10.08\n",
            "epoch:  90  Loss:  17290.48590720659  Test Loss: 43316.17945326843  Acc: 10.08\n",
            "epoch:  91  Loss:  17215.427237012307  Test Loss: 43530.80084247176  Acc: 10.0\n",
            "epoch:  92  Loss:  17148.46823501842  Test Loss: 43632.689451654864  Acc: 10.07\n",
            "epoch:  93  Loss:  17085.583171815728  Test Loss: 43821.4740346568  Acc: 10.02\n",
            "epoch:  94  Loss:  17017.521770742653  Test Loss: 44013.06531977427  Acc: 10.03\n",
            "epoch:  95  Loss:  16960.954357275983  Test Loss: 44083.21398108919  Acc: 9.99\n",
            "epoch:  96  Loss:  16867.79870344212  Test Loss: 44276.61275342312  Acc: 10.0\n",
            "epoch:  97  Loss:  16844.030946215367  Test Loss: 44466.422730811406  Acc: 10.05\n",
            "epoch:  98  Loss:  16746.035841468856  Test Loss: 44571.14104969179  Acc: 10.02\n",
            "epoch:  99  Loss:  16701.304519069665  Test Loss: 44814.42028392704  Acc: 10.0\n"
          ],
          "name": "stdout"
        },
        {
          "output_type": "display_data",
          "data": {
            "text/plain": [
              "<Figure size 432x288 with 1 Axes>"
            ],
            "image/png": "[encoded data removed]"
          },
          "metadata": {
            "tags": [],
            "needs_background": "light"
          }
        }
      ]
    },
    {
      "cell_type": "code",
      "metadata": {
        "id": "DS0HF9ULSUHc",
        "colab": {
          "base_uri": "https://localhost:8080/"
        },
        "outputId": "2bf17aab-7ef0-4280-89b7-de80f19bd410"
      },
      "source": [
        "print(\"test\")\r\n",
        "print(\"train acc: \",m.predict(x))\r\n",
        "print(\"test acc: \",m.predict(x_test))\r\n"
      ],
      "execution_count": 13,
      "outputs": [
        {
          "output_type": "stream",
          "text": [
            "test\n",
            "train acc:  79.144\n",
            "test acc:  10.0\n"
          ],
          "name": "stdout"
        }
      ]
    },
    {
      "cell_type": "code",
      "metadata": {
        "id": "Hg0coinleAhZ"
      },
      "source": [
        "pic=x[:,1:2].reshape(32,32)\r\n",
        "plt.imshow(pic, cmap = plt.cm.binary)\r\n",
        "figure = plt.gcf()\r\n",
        "figure.set_size_inches(1,1)\r\n",
        "plt.axis(\"off\")\r\n",
        "plt.show()"
      ],
      "execution_count": null,
      "outputs": []
    },
    {
      "cell_type": "code",
      "metadata": {
        "id": "ZZveTzOmlKCi"
      },
      "source": [
        "print(numpy.shape(pic))\r\n",
        "repic=[]\r\n",
        "for j in range(0,32,2):\r\n",
        "  plist=[]\r\n",
        "  #print(j)\r\n",
        "  for i in range(0,32,2):\r\n",
        "    #maxx=max(pic[j][i],pic[j+1][i],pic[j][i+1],pic[i+1][j+1])\r\n",
        "    maxx=(pic[j][i]+pic[j+1][i]+pic[j][i+1]+pic[i+1][j+1])/4\r\n",
        "    plist.append(maxx)\r\n",
        "  repic.append(plist)\r\n",
        "print(repic)\r\n",
        "repic=numpy.array(repic)\r\n",
        "print(numpy.shape(repic))\r\n",
        "plt.imshow(repic, cmap = plt.cm.binary)\r\n",
        "plt.axis(\"off\")\r\n",
        "plt.show()"
      ],
      "execution_count": null,
      "outputs": []
    },
    {
      "cell_type": "code",
      "metadata": {
        "id": "AruNz74BPlc4",
        "colab": {
          "base_uri": "https://localhost:8080/",
          "height": 47
        },
        "outputId": "effce0a1-4410-4d40-ead7-fe3d1d9745e9"
      },
      "source": [
        "import cv2\r\n",
        "repic = cv2.resize(pic, dsize=(16, 16), interpolation=cv2.INTER_CUBIC)\r\n",
        "plt.imshow(repic, cmap = plt.cm.binary)\r\n",
        "figure = plt.gcf()\r\n",
        "figure.set_size_inches(0.3,0.3)\r\n",
        "plt.axis(\"off\")\r\n",
        "plt.show()"
      ],
      "execution_count": null,
      "outputs": [
        {
          "output_type": "display_data",
          "data": {
            "image/png": "[encoded data removed]",
            "text/plain": [
              "<Figure size 21.6x21.6 with 1 Axes>"
            ]
          },
          "metadata": {
            "tags": [],
            "needs_background": "light"
          }
        }
      ]
    }
  ]
}