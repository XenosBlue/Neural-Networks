{
  "nbformat": 4,
  "nbformat_minor": 0,
  "metadata": {
    "colab": {
      "name": "NeuralNetwork.ipynb",
      "provenance": [],
      "collapsed_sections": []
    },
    "kernelspec": {
      "display_name": "Python 3",
      "name": "python3"
    }
  },
  "cells": [
    {
      "cell_type": "code",
      "metadata": {
        "id": "Y0rvpMfEaAIf"
      },
      "source": [
        "import numpy\r\n",
        "import pandas\r\n",
        "import os\r\n",
        "import matplotlib.pyplot as plt"
      ],
      "execution_count": 1,
      "outputs": []
    },
    {
      "cell_type": "code",
      "metadata": {
        "id": "Idh0GAZv1Xrh"
      },
      "source": [
        "os.chdir(\"xxxxxxxxxxxxxxxxx/cifar-10-batches\")\r\n",
        "batch1 = pandas.read_pickle(\"data_batch_1\")\r\n",
        "batch2 = pandas.read_pickle(\"data_batch_2\")\r\n",
        "batch3 = pandas.read_pickle(\"data_batch_3\")\r\n",
        "batch4 = pandas.read_pickle(\"data_batch_4\")\r\n",
        "batch5 = pandas.read_pickle(\"data_batch_5\")\r\n",
        "batch6 = pandas.read_pickle(\"data_batch_6\")\r\n",
        "\r\n",
        "#data=data.to_numpy()\r\n"
      ],
      "execution_count": 2,
      "outputs": []
    },
    {
      "cell_type": "code",
      "metadata": {
        "id": "87wly_j51tEH"
      },
      "source": [
        "#for each in batch:\r\n",
        "  #print(each)\r\n",
        "def pre_process(x,y):\r\n",
        "  m=len(y)\r\n",
        "  print(\"m: \",m)\r\n",
        "  print(type(x))\r\n",
        "  x = (x/255).astype('float32')\r\n",
        "  print(numpy.shape(x))\r\n",
        "  x=x.T\r\n",
        "  print(\"x: \",numpy.shape(x))\r\n",
        "  \r\n",
        "  print(numpy.shape(y))\r\n",
        "  y = numpy.array(y).reshape(1,m)\r\n",
        "  print(\"pre_y: \",numpy.shape(y))\r\n",
        "  yn=numpy.zeros((10,m))\r\n",
        "  \r\n",
        "  for i in range(m):\r\n",
        "    yn[y[0][i]][i]=1\r\n",
        "    yn=yn.astype('float32')\r\n",
        "  \r\n",
        "  #for i in range(m):\r\n",
        "  #print(pre_y[0][i],' ',y[0:10,i:i+1])\r\n",
        "  \r\n",
        "  print(\"y: \",numpy.shape(yn))\r\n",
        "  print(numpy.unique(y,return_counts=True))\r\n",
        "  return x,yn\r\n"
      ],
      "execution_count": 3,
      "outputs": []
    },
    {
      "cell_type": "code",
      "metadata": {
        "colab": {
          "base_uri": "https://localhost:8080/"
        },
        "id": "Quhobwlhr6x3",
        "outputId": "fd36e44e-eb45-4c8b-8050-a151f2d8aee7"
      },
      "source": [
        "x1=batch1[b'data']\r\n",
        "x2=batch2[b'data']\r\n",
        "x3=batch3[b'data']\r\n",
        "x4=batch4[b'data']\r\n",
        "x5=batch5[b'data']\r\n",
        "x=numpy.vstack((x1,x2,x3,x4,x5))\r\n",
        "x6=batch6[b'data']\r\n",
        "\r\n",
        "\r\n",
        "pre_y1 = batch1[b'labels']\r\n",
        "pre_y2 = batch2[b'labels']\r\n",
        "pre_y3 = batch3[b'labels']\r\n",
        "pre_y4 = batch4[b'labels']\r\n",
        "pre_y5 = batch5[b'labels']\r\n",
        "pre_y = numpy.hstack((pre_y1,pre_y2,pre_y3,pre_y4,pre_y5)).reshape(-1,1)\r\n",
        "pre_y6 = batch6[b'labels']\r\n",
        "\r\n",
        "print(numpy.shape(pre_y1))\r\n",
        "print(numpy.shape(x1))\r\n",
        "#x_pre_train,y_pre_train=pre_process(x1,pre_y1)\r\n",
        "x,y=pre_process(x,pre_y)\r\n",
        "x_test,y_test=pre_process(x6,pre_y6)\r\n",
        "print(numpy.shape(x_pre_train))\r\n",
        "print(numpy.shape(y_pre_train))\r\n",
        "#for each in range(y_pre_train.shape[1]):\r\n",
        "  #print(y_pre_train[0:1,each],\" \")"
      ],
      "execution_count": 22,
      "outputs": [
        {
          "output_type": "stream",
          "text": [
            "(10000,)\n",
            "(10000, 1024)\n",
            "m:  50000\n",
            "<class 'numpy.ndarray'>\n",
            "(50000, 1024)\n",
            "x:  (1024, 50000)\n",
            "(50000, 1)\n",
            "pre_y:  (1, 50000)\n",
            "y:  (10, 50000)\n",
            "(array([0, 1, 2, 3, 4, 5, 6, 7, 8, 9]), array([5000, 5000, 5000, 5000, 5000, 5000, 5000, 5000, 5000, 5000]))\n",
            "m:  10000\n",
            "<class 'numpy.ndarray'>\n",
            "(10000, 1024)\n",
            "x:  (1024, 10000)\n",
            "(10000,)\n",
            "pre_y:  (1, 10000)\n",
            "y:  (10, 10000)\n",
            "(array([0, 1, 2, 3, 4, 5, 6, 7, 8, 9]), array([1000, 1000, 1000, 1000, 1000, 1000, 1000, 1000, 1000, 1000]))\n",
            "(1024, 10000)\n",
            "(10, 10000)\n"
          ],
          "name": "stdout"
        }
      ]
    },
    {
      "cell_type": "code",
      "metadata": {
        "colab": {
          "base_uri": "https://localhost:8080/",
          "height": 1000
        },
        "id": "a7xMOCdkl-yS",
        "outputId": "9819c809-7940-462e-ad5a-8bb7e4f2cfaf"
      },
      "source": [
        "f=x[0:1024,0:1]\r\n",
        "#f=f.T\r\n",
        "print(numpy.shape(f))\r\n",
        "for i in range(11):\r\n",
        "  ind=i+170\r\n",
        "  pic=(x[0:1024,ind:ind+1]).reshape(32,32)\r\n",
        "  pic=pic/255\r\n",
        "  plt.imshow(pic, cmap = plt.cm.binary)\r\n",
        "  plt.axis(\"off\")\r\n",
        "  plt.show()\r\n",
        "  print(y[ind])\r\n",
        "  print()"
      ],
      "execution_count": 23,
      "outputs": [
        {
          "output_type": "stream",
          "text": [
            "(1024, 1)\n"
          ],
          "name": "stdout"
        },
        {
          "output_type": "display_data",
          "data": {
            "text/plain": [
              "<Figure size 432x288 with 1 Axes>"
            ],
            "image/png": "[encoded data removed]"
          },
          "metadata": {
            "tags": [],
            "needs_background": "light"
          }
        },
        {
          "output_type": "stream",
          "text": [
            "8\n",
            "\n"
          ],
          "name": "stdout"
        },
        {
          "output_type": "display_data",
          "data": {
            "text/plain": [
              "<Figure size 432x288 with 1 Axes>"
            ],
            "image/png": "[encoded data removed]"
          },
          "metadata": {
            "tags": [],
            "needs_background": "light"
          }
        },
        {
          "output_type": "stream",
          "text": [
            "2\n",
            "\n"
          ],
          "name": "stdout"
        },
        {
          "output_type": "display_data",
          "data": {
            "text/plain": [
              "<Figure size 432x288 with 1 Axes>"
            ],
            "image/png": "[encoded data removed]"
          },
          "metadata": {
            "tags": [],
            "needs_background": "light"
          }
        },
        {
          "output_type": "stream",
          "text": [
            "7\n",
            "\n"
          ],
          "name": "stdout"
        },
        {
          "output_type": "display_data",
          "data": {
            "text/plain": [
              "<Figure size 432x288 with 1 Axes>"
            ],
            "image/png": "[encoded data removed]"
          },
          "metadata": {
            "tags": [],
            "needs_background": "light"
          }
        },
        {
          "output_type": "stream",
          "text": [
            "5\n",
            "\n"
          ],
          "name": "stdout"
        },
        {
          "output_type": "display_data",
          "data": {
            "text/plain": [
              "<Figure size 432x288 with 1 Axes>"
            ],
            "image/png": "[encoded data removed]"
          },
          "metadata": {
            "tags": [],
            "needs_background": "light"
          }
        },
        {
          "output_type": "stream",
          "text": [
            "3\n",
            "\n"
          ],
          "name": "stdout"
        },
        {
          "output_type": "display_data",
          "data": {
            "text/plain": [
              "<Figure size 432x288 with 1 Axes>"
            ],
            "image/png": "[encoded data removed]"
          },
          "metadata": {
            "tags": [],
            "needs_background": "light"
          }
        },
        {
          "output_type": "stream",
          "text": [
            "4\n",
            "\n"
          ],
          "name": "stdout"
        },
        {
          "output_type": "display_data",
          "data": {
            "text/plain": [
              "<Figure size 432x288 with 1 Axes>"
            ],
            "image/png": "[encoded data removed]"
          },
          "metadata": {
            "tags": [],
            "needs_background": "light"
          }
        },
        {
          "output_type": "stream",
          "text": [
            "1\n",
            "\n"
          ],
          "name": "stdout"
        },
        {
          "output_type": "display_data",
          "data": {
            "text/plain": [
              "<Figure size 432x288 with 1 Axes>"
            ],
            "image/png": "[encoded data removed]"
          },
          "metadata": {
            "tags": [],
            "needs_background": "light"
          }
        },
        {
          "output_type": "stream",
          "text": [
            "5\n",
            "\n"
          ],
          "name": "stdout"
        },
        {
          "output_type": "display_data",
          "data": {
            "text/plain": [
              "<Figure size 432x288 with 1 Axes>"
            ],
            "image/png": "[encoded data removed]"
          },
          "metadata": {
            "tags": [],
            "needs_background": "light"
          }
        },
        {
          "output_type": "stream",
          "text": [
            "7\n",
            "\n"
          ],
          "name": "stdout"
        },
        {
          "output_type": "display_data",
          "data": {
            "text/plain": [
              "<Figure size 432x288 with 1 Axes>"
            ],
            "image/png": "[encoded data removed]"
          },
          "metadata": {
            "tags": [],
            "needs_background": "light"
          }
        },
        {
          "output_type": "stream",
          "text": [
            "0\n",
            "\n"
          ],
          "name": "stdout"
        },
        {
          "output_type": "display_data",
          "data": {
            "text/plain": [
              "<Figure size 432x288 with 1 Axes>"
            ],
            "image/png": "[encoded data removed]"
          },
          "metadata": {
            "tags": [],
            "needs_background": "light"
          }
        },
        {
          "output_type": "stream",
          "text": [
            "4\n",
            "\n"
          ],
          "name": "stdout"
        }
      ]
    },
    {
      "cell_type": "code",
      "metadata": {
        "id": "xDCX4UKr5ZKZ"
      },
      "source": [
        "class model:\r\n",
        "  def __init__(self):\r\n",
        "    self.layers=[]\r\n",
        "    self.number_of_layers=0\r\n",
        "    self.weights={}\r\n",
        "    self.bias={}\r\n",
        "\r\n",
        "\r\n",
        "  def layer(self,n):\r\n",
        "    self.layers.append(n)\r\n",
        "    self.number_of_layers+=1\r\n",
        "    return\r\n",
        "\r\n",
        "  def initialize_weights(self):\r\n",
        "    numpy.random.seed(7)\r\n",
        "    l = self.number_of_layers\r\n",
        "    for i in range(l-1):\r\n",
        "      wrange=numpy.sqrt(6/(self.layers[i]+self.layers[i+1]))\r\n",
        "      #wrange=1\r\n",
        "      w=numpy.random.uniform(wrange,-wrange,(self.layers[i+1],self.layers[i]))\r\n",
        "      #w=w*numpy.sqrt(1/(self.layers[i]+self.layers[i+1]))\r\n",
        "      b=numpy.zeros((self.layers[i+1],1))\r\n",
        "      self.bias[i]=b\r\n",
        "      self.weights[i]=w\r\n",
        "  \r\n",
        "  def sigmoid(self,z):\r\n",
        "    return 1/(1+numpy.exp(-z))\r\n",
        "\r\n",
        "  def hypothesis(self,x):\r\n",
        "    alist=[]\r\n",
        "    alist.append(x)\r\n",
        "    for i in range(self.number_of_layers-2):\r\n",
        "      z=numpy.dot(self.weights[i],x)+self.bias[i]\r\n",
        "      a=self.sigmoid(z)\r\n",
        "      alist.append(a)\r\n",
        "      #print(i,\" \",z,\" \",a)\r\n",
        "      #print(numpy.shape(a))\r\n",
        "      x=a\r\n",
        "    z=numpy.dot(self.weights[self.number_of_layers-2],x)+self.bias[self.number_of_layers-2]\r\n",
        "    a=numpy.exp(z)/numpy.sum(numpy.exp(z), axis=0)\r\n",
        "    alist.append(a)\r\n",
        "    h=a\r\n",
        "    return h,alist\r\n",
        "\r\n",
        "\r\n",
        "  def predict(self,x):\r\n",
        "    h,temp = self.hypothesis(x)\r\n",
        "    cost=0\r\n",
        "    #h->  sample x 10\r\n",
        "    m=numpy.shape(h)[1]\r\n",
        "    print(m)\r\n",
        "    for i in range(m):\r\n",
        "      if numpy.argmax(h[:,i:i+1])!=numpy.argmax(y[:,i:i+1]):\r\n",
        "        maxx=numpy.max(h[:,i:i+1])\r\n",
        "        #print(\"max \",maxx)\r\n",
        "        #out=h[i]/maxx\r\n",
        "        #print(numpy.argmax(h[:,i:i+1]),\"\\n\",h[:,i:i+1].reshape(1,10),\"\\n\",y[:,i:i+1].reshape(1,10),\"\")\r\n",
        "        cost+=1\r\n",
        "    return cost\r\n",
        "\r\n",
        "  def test(self):\r\n",
        "    print(\"EX\")\r\n"
      ],
      "execution_count": 24,
      "outputs": []
    },
    {
      "cell_type": "code",
      "metadata": {
        "id": "IUOxctw8Axgg"
      },
      "source": [
        "class trainer:\r\n",
        "  \r\n",
        "  def __init__(self,model,alpha,mini_batch,print_frequency,show_plot):\r\n",
        "    self.model = model\r\n",
        "    self.alpha = alpha\r\n",
        "    self.print_frequency = print_frequency\r\n",
        "    self.show_plot = show_plot\r\n",
        "\r\n",
        "\r\n",
        "\r\n",
        "  def Loss(self,h,y):\r\n",
        "    #s=(numpy.square(h-y))\r\n",
        "    #s=numpy.sum(s)/len(y)\r\n",
        "    #return(s)\r\n",
        "    lsum = numpy.sum(numpy.multiply(y, numpy.log(h)))\r\n",
        "    m = y.shape[1]\r\n",
        "    #print(numpy.shape(y))\r\n",
        "    loss = -(1/m) * lsum\r\n",
        "    return loss\r\n",
        "    \r\n",
        "    \r\n",
        "  def back_propagation(self,alist,x,h,y):\r\n",
        "    dwlist={}\r\n",
        "    dblist={}\r\n",
        "    num=self.model.number_of_layers-2\r\n",
        "    m=numpy.shape(x)[1]\r\n",
        "\r\n",
        "\r\n",
        "    '''\r\n",
        "    for each in alist:\r\n",
        "      print(numpy.shape(each))\r\n",
        "\r\n",
        "    print()\r\n",
        "\r\n",
        "    for each in self.model.weights.keys():\r\n",
        "      print(numpy.shape(self.model.weights[each]))\r\n",
        "    '''\r\n",
        "\r\n",
        "\r\n",
        "    dz=h-y\r\n",
        "    dw=(1./m)*(numpy.dot(dz,alist[num].T))\r\n",
        "    db=(1./m)*numpy.sum(dz,axis=1,keepdims=True)\r\n",
        "    dwlist[num]=dw\r\n",
        "    dblist[num]=db\r\n",
        "    num-=1\r\n",
        "    '''\r\n",
        "    print()\r\n",
        "    print(num)\r\n",
        "    print(numpy.shape(dz))\r\n",
        "    print(numpy.shape(dw))\r\n",
        "    print(numpy.shape(db))\r\n",
        "    '''\r\n",
        "\r\n",
        "    for i in range(num,-1,-1):\r\n",
        "      #print(\"num: \",num)\r\n",
        "      da=numpy.dot(self.model.weights[i+1].T,dz)\r\n",
        "      dz=da*alist[i+1]*(1-alist[i+1])\r\n",
        "      dw=(1./m)*(numpy.dot(dz,alist[i].T))\r\n",
        "      db=(1./m)*numpy.sum(dz,axis=1,keepdims=True)\r\n",
        "      dwlist[i]=dw\r\n",
        "      dblist[i]=db\r\n",
        "\r\n",
        "    return dwlist,dblist\r\n",
        "\r\n",
        "  def mini_batch(self,x,y,batch_size):\r\n",
        "    batches = [] \r\n",
        "    data = numpy.vstack((x,y))\r\n",
        "    m=data.shape[1]\r\n",
        "    numpy.random.seed(7)\r\n",
        "    p=numpy.random.permutation(m)\r\n",
        "    data= data[:,p]\r\n",
        "    batch_count = (int)(data.shape[1]/batch_size)\r\n",
        "    #print(numpy.shape(x))\r\n",
        "    #print(numpy.shape(y))\r\n",
        "    #print(numpy.shape(data))\r\n",
        "    #print(data[0])\r\n",
        "    x_size=numpy.shape(x)[0]\r\n",
        "    y_size=numpy.shape(y)[0]\r\n",
        "\r\n",
        "\r\n",
        "    for i in range(batch_count): \r\n",
        "        mini_batch = data[:,i*batch_size:(i+1)*batch_size] \r\n",
        "        xm = mini_batch[0:x_size,:] \r\n",
        "        ym = mini_batch[x_size:x_size+y_size,:]#.reshape((-1,1))\r\n",
        "        #print(numpy.shape(xm))\r\n",
        "        #print(numpy.shape(ym))\r\n",
        "        #print(numpy.shape(mini_batch))\r\n",
        "        batches.append((xm,ym))\r\n",
        "        \r\n",
        "    return batches \r\n",
        "\r\n",
        "\r\n",
        "  def train_model(self,x,y,x_test,y_test,epoch,batch_size):\r\n",
        "    loss_list=[]\r\n",
        "    test_loss_list=[]\r\n",
        "    for e in range(epoch):\r\n",
        "      batches=self.mini_batch(x,y,batch_size)\r\n",
        "      loss=0\r\n",
        "\r\n",
        "      for b in batches:\r\n",
        "        batch_x,batch_y=b\r\n",
        "        h,alist=self.model.hypothesis(batch_x)\r\n",
        "        dwlist,dblist=self.back_propagation(alist,batch_x,h,batch_y)\r\n",
        "\r\n",
        "\r\n",
        "        loss+=self.Loss(h,batch_y)\r\n",
        "\r\n",
        "\r\n",
        "        for each in self.model.weights.keys():\r\n",
        "          self.model.weights[each]-=self.alpha*dwlist[each]\r\n",
        "          self.model.bias[each]-=self.alpha*dblist[each]\r\n",
        "      \r\n",
        "\r\n",
        "      h_test,xxxxx=self.model.hypothesis(x_test)\r\n",
        "      test_loss=self.Loss(h_test,y_test)\r\n",
        "      loss_list.append(loss)\r\n",
        "      test_loss_list.append(test_loss)\r\n",
        "         \r\n",
        "\r\n",
        "      if e%self.print_frequency==0:\r\n",
        "        print(\"epoch: \",e,\" Loss: \",loss)\r\n",
        "    \r\n",
        "    if (self.show_plot==True):\r\n",
        "      plt.plot(loss_list,label='train loss')\r\n",
        "      plt.plot(test_loss_list,label='test loss')\r\n",
        "      plt.ylabel('loss')\r\n",
        "      plt.xlabel('iterations')\r\n",
        "      plt.show()\r\n",
        "    return self.model.weights\r\n"
      ],
      "execution_count": 25,
      "outputs": []
    },
    {
      "cell_type": "code",
      "metadata": {
        "id": "GJUQ2y_j2WN1"
      },
      "source": [
        "m=model()\r\n",
        "m.layer(1024)\r\n",
        "#m.layer(512)\r\n",
        "m.layer(216)\r\n",
        "#m.layer(108)\r\n",
        "m.layer(64)\r\n",
        "#m.layer(32)\r\n",
        "m.layer(16)\r\n",
        "m.layer(10)\r\n",
        "m.initialize_weights()\r\n",
        "\r\n"
      ],
      "execution_count": 27,
      "outputs": []
    },
    {
      "cell_type": "code",
      "metadata": {
        "colab": {
          "base_uri": "https://localhost:8080/"
        },
        "id": "LOR7GT2V8026",
        "outputId": "f4bdc851-4bbd-4028-d2fe-e5d940f2bf7e"
      },
      "source": [
        "t=trainer(m,0.1,1,10,True)\r\n",
        "w=t.train_model(x,y,x_test,y_test,1000,256)"
      ],
      "execution_count": null,
      "outputs": [
        {
          "output_type": "stream",
          "text": [
            "epoch:  0  Loss:  449.94092245962946\n",
            "epoch:  10  Loss:  418.30709385776123\n",
            "epoch:  20  Loss:  398.6367045084975\n",
            "epoch:  30  Loss:  390.4472382020721\n",
            "epoch:  40  Loss:  380.96803974025596\n",
            "epoch:  50  Loss:  374.36007411430245\n",
            "epoch:  60  Loss:  367.6371730844493\n",
            "epoch:  70  Loss:  360.7016016060038\n",
            "epoch:  80  Loss:  353.85265139917414\n"
          ],
          "name": "stdout"
        }
      ]
    },
    {
      "cell_type": "code",
      "metadata": {
        "id": "Mlc-oVIj8wPb"
      },
      "source": [
        "t=trainer(m,0.1,1,1,True)\r\n",
        "w=t.train_model(x,y,1000,8)"
      ],
      "execution_count": null,
      "outputs": []
    },
    {
      "cell_type": "code",
      "metadata": {
        "id": "cnAq2xaQS6tH"
      },
      "source": [
        "t=trainer(m,0.1,1,1,True)\r\n",
        "w=t.train_model(x,y,100,8)"
      ],
      "execution_count": null,
      "outputs": []
    },
    {
      "cell_type": "code",
      "metadata": {
        "id": "YDXrm1AjbcM0"
      },
      "source": [
        "t=trainer(m,0.1,1,1,True)\r\n",
        "w=t.train_model(x,y,100,32)"
      ],
      "execution_count": null,
      "outputs": []
    },
    {
      "cell_type": "code",
      "metadata": {
        "id": "ObbCRLftZ085"
      },
      "source": [
        "t=trainer(m,0.1,1,10,True)\r\n",
        "w=t.train_model(x,y,1000,64)"
      ],
      "execution_count": null,
      "outputs": []
    },
    {
      "cell_type": "code",
      "metadata": {
        "id": "nxSl7qnerj0k"
      },
      "source": [
        "t=trainer(m,0.1,1,1,True)\r\n",
        "w=t.train_model(x,y,100,64)"
      ],
      "execution_count": null,
      "outputs": []
    },
    {
      "cell_type": "code",
      "metadata": {
        "id": "DS0HF9ULSUHc"
      },
      "source": [
        "#m.weights=w\r\n",
        "#print(numpy.unique(y[0]))\r\n",
        "#print(x)\r\n",
        "print(\"test\")\r\n",
        "m.predict(x)\r\n"
      ],
      "execution_count": null,
      "outputs": []
    },
    {
      "cell_type": "code",
      "metadata": {
        "id": "Hg0coinleAhZ",
        "colab": {
          "base_uri": "https://localhost:8080/",
          "height": 85
        },
        "outputId": "c5da2528-8458-4aed-a6fb-0c2eb7bd4f40"
      },
      "source": [
        "pic=x[:,1:2].reshape(32,32)\r\n",
        "plt.imshow(pic, cmap = plt.cm.binary)\r\n",
        "figure = plt.gcf()\r\n",
        "figure.set_size_inches(1,1)\r\n",
        "plt.axis(\"off\")\r\n",
        "plt.show()"
      ],
      "execution_count": 79,
      "outputs": [
        {
          "output_type": "display_data",
          "data": {
            "image/png": "[encoded data removed]",
            "text/plain": [
              "<Figure size 72x72 with 1 Axes>"
            ]
          },
          "metadata": {
            "tags": [],
            "needs_background": "light"
          }
        }
      ]
    },
    {
      "cell_type": "code",
      "metadata": {
        "id": "ZZveTzOmlKCi",
        "colab": {
          "base_uri": "https://localhost:8080/",
          "height": 318
        },
        "outputId": "499ab6b8-bea5-4abe-b1ed-f9d6c4ad5f0e"
      },
      "source": [
        "print(numpy.shape(pic))\r\n",
        "repic=[]\r\n",
        "for j in range(0,32,2):\r\n",
        "  plist=[]\r\n",
        "  #print(j)\r\n",
        "  for i in range(0,32,2):\r\n",
        "    #maxx=max(pic[j][i],pic[j+1][i],pic[j][i+1],pic[i+1][j+1])\r\n",
        "    maxx=(pic[j][i]+pic[j+1][i]+pic[j][i+1]+pic[i+1][j+1])/4\r\n",
        "    plist.append(maxx)\r\n",
        "  repic.append(plist)\r\n",
        "print(repic)\r\n",
        "repic=numpy.array(repic)\r\n",
        "print(numpy.shape(repic))\r\n",
        "plt.imshow(repic, cmap = plt.cm.binary)\r\n",
        "plt.axis(\"off\")\r\n",
        "plt.show()"
      ],
      "execution_count": null,
      "outputs": [
        {
          "output_type": "stream",
          "text": [
            "(32, 32)\n",
            "[[0.062745101749897, 0.05686274543404579, 0.06470588594675064, 0.06666667014360428, 0.06568627804517746, 0.06568627804517746, 0.0676470622420311, 0.06960784643888474, 0.0833333432674408, 0.12843137979507446, 0.08137255907058716, 0.0990196168422699, 0.125490203499794, 0.1666666716337204, 0.11568628251552582, 0.09509804844856262], [0.060784317553043365, 0.05686274543404579, 0.06568627804517746, 0.0676470622420311, 0.06666667014360428, 0.06666667014360428, 0.0676470622420311, 0.06666667014360428, 0.10784314572811127, 0.1931372582912445, 0.16372549533843994, 0.10490196943283081, 0.12352941930294037, 0.17058824002742767, 0.06470588594675064, 0.10588236153125763], [0.05882353335618973, 0.060784317553043365, 0.06666667014360428, 0.06666667014360428, 0.06568627804517746, 0.06960784643888474, 0.06960784643888474, 0.19509804248809814, 0.19705882668495178, 0.18333333730697632, 0.1872549057006836, 0.14313726127147675, 0.07156863063573837, 0.13333334028720856, 0.08725491166114807, 0.10490196943283081], [0.06470588594675064, 0.06568627804517746, 0.06960784643888474, 0.06666667014360428, 0.06960784643888474, 0.11666667461395264, 0.20588237047195435, 0.23235294222831726, 0.20392157137393951, 0.3235294222831726, 0.26862746477127075, 0.47156861424446106, 0.22745099663734436, 0.11078432202339172, 0.14215686917304993, 0.15980392694473267], [0.06372549384832382, 0.06470588594675064, 0.06666667014360428, 0.07058823853731155, 0.0784313753247261, 0.2617647051811218, 0.4019607901573181, 0.6058824062347412, 0.4735294282436371, 0.49901965260505676, 0.5274510383605957, 0.6323529481887817, 0.31470587849617004, 0.06470588594675064, 0.18333333730697632, 0.1411764770746231], [0.06372549384832382, 0.06372549384832382, 0.06666667014360428, 0.05882353335618973, 0.45000001788139343, 0.6147059202194214, 0.5892156958580017, 0.49313730001449585, 0.30980393290519714, 0.4313725531101227, 0.4000000059604645, 0.6196078062057495, 0.38333332538604736, 0.07745098322629929, 0.15490196645259857, 0.14901961386203766], [0.06470588594675064, 0.06470588594675064, 0.06470588594675064, 0.3392156958580017, 0.5558823347091675, 0.5196078419685364, 0.503921627998352, 0.615686297416687, 0.2960784435272217, 0.4372549057006836, 0.3803921639919281, 0.6098039150238037, 0.6107843518257141, 0.10196079313755035, 0.18529412150382996, 0.17352941632270813], [0.07156863063573837, 0.07058823853731155, 0.14803922176361084, 0.47843137383461, 0.5647059082984924, 0.5686274766921997, 0.5735294222831726, 0.5539215803146362, 0.47058823704719543, 0.3950980603694916, 0.47156864404678345, 0.6872549057006836, 0.6441176533699036, 0.16568627953529358, 0.1352941244840622, 0.1460784375667572], [0.09117647260427475, 0.09117647260427475, 0.36666667461395264, 0.5313725471496582, 0.46568629145622253, 0.44607844948768616, 0.33039215207099915, 0.4372549057006836, 0.2666666805744171, 0.38431376218795776, 0.4745098352432251, 0.7215686440467834, 0.2970588207244873, 0.1509803980588913, 0.14509804546833038, 0.1568627506494522], [0.1715686321258545, 0.3382353186607361, 0.44509807229042053, 0.5617647171020508, 0.41960784792900085, 0.4901961088180542, 0.40784314274787903, 0.344117671251297, 0.4215686321258545, 0.636274516582489, 0.7735294103622437, 0.6735294461250305, 0.3686274588108063, 0.2764706015586853, 0.22549021244049072, 0.17058824002742767], [0.12156863510608673, 0.37254905700683594, 0.43137258291244507, 0.4911764860153198, 0.4588235318660736, 0.3382353186607361, 0.39411765336990356, 0.5676470398902893, 0.638235330581665, 0.704901933670044, 0.40882354974746704, 0.6872549057006836, 0.4176470637321472, 0.42352941632270813, 0.3911764621734619, 0.2549019753932953], [0.09019608050584793, 0.3401961028575897, 0.30392158031463623, 0.5264706015586853, 0.6921568512916565, 0.3549019694328308, 0.5617647171020508, 0.5647058486938477, 0.44705885648727417, 0.6049019694328308, 0.7882353067398071, 0.7215687036514282, 0.4372549057006836, 0.4441176652908325, 0.5401961207389832, 0.5205882787704468], [0.13725490868091583, 0.31470590829849243, 0.11666666716337204, 0.31666669249534607, 0.33725491166114807, 0.3764705955982208, 0.45686274766921997, 0.43529412150382996, 0.3803921639919281, 0.550000011920929, 0.41470590233802795, 0.5480391979217529, 0.3754901885986328, 0.3480392098426819, 0.44607844948768616, 0.5166666507720947], [0.16372549533843994, 0.37352943420410156, 0.2558823525905609, 0.13137255609035492, 0.15392157435417175, 0.10294117778539658, 0.2294117659330368, 0.2823529541492462, 0.3343137204647064, 0.5009804368019104, 0.6578431725502014, 0.5421568751335144, 0.4284313917160034, 0.40882354974746704, 0.4529411792755127, 0.3803921639919281], [0.22843137383460999, 0.13333334028720856, 0.2088235318660736, 0.24607844650745392, 0.26960787177085876, 0.3117647171020508, 0.2862745225429535, 0.23627452552318573, 0.2960784435272217, 0.3911764919757843, 0.5607843399047852, 0.6872549057006836, 0.5803921818733215, 0.4745098352432251, 0.5049020051956177, 0.46666666865348816], [0.1617647111415863, 0.12843137979507446, 0.15882353484630585, 0.24313727021217346, 0.30098041892051697, 0.3588235676288605, 0.3960784673690796, 0.31960785388946533, 0.31470587849617004, 0.38921570777893066, 0.31960785388946533, 0.5676470994949341, 0.6000000238418579, 0.5990196466445923, 0.46764707565307617, 0.3539215922355652]]\n",
            "(16, 16)\n"
          ],
          "name": "stdout"
        },
        {
          "output_type": "display_data",
          "data": {
            "image/png": "[encoded data removed]",
            "text/plain": [
              "<Figure size 432x288 with 1 Axes>"
            ]
          },
          "metadata": {
            "tags": [],
            "needs_background": "light"
          }
        }
      ]
    },
    {
      "cell_type": "code",
      "metadata": {
        "id": "AruNz74BPlc4",
        "colab": {
          "base_uri": "https://localhost:8080/",
          "height": 47
        },
        "outputId": "effce0a1-4410-4d40-ead7-fe3d1d9745e9"
      },
      "source": [
        "import cv2\r\n",
        "repic = cv2.resize(pic, dsize=(16, 16), interpolation=cv2.INTER_CUBIC)\r\n",
        "plt.imshow(repic, cmap = plt.cm.binary)\r\n",
        "figure = plt.gcf()\r\n",
        "figure.set_size_inches(0.3,0.3)\r\n",
        "plt.axis(\"off\")\r\n",
        "plt.show()"
      ],
      "execution_count": null,
      "outputs": [
        {
          "output_type": "display_data",
          "data": {
            "image/png": "[encoded data removed]",
            "text/plain": [
              "<Figure size 21.6x21.6 with 1 Axes>"
            ]
          },
          "metadata": {
            "tags": [],
            "needs_background": "light"
          }
        }
      ]
    },
    {
      "cell_type": "code",
      "metadata": {
        "id": "GYzPK6R_8VEE"
      },
      "source": [
        ""
      ],
      "execution_count": null,
      "outputs": []
    }
  ]
}
