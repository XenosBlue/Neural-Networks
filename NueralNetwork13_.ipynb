{
  "nbformat": 4,
  "nbformat_minor": 0,
  "metadata": {
    "colab": {
      "name": "NueralNetwork13 .ipynb",
      "provenance": [],
      "collapsed_sections": []
    },
    "kernelspec": {
      "name": "python3",
      "display_name": "Python 3"
    }
  },
  "cells": [
    {
      "cell_type": "code",
      "metadata": {
        "id": "Y0rvpMfEaAIf"
      },
      "source": [
        "import numpy\r\n",
        "import pandas\r\n",
        "import os\r\n",
        "import math\r\n",
        "import matplotlib.pyplot as plt"
      ],
      "execution_count": 1,
      "outputs": []
    },
    {
      "cell_type": "code",
      "metadata": {
        "colab": {
          "base_uri": "https://localhost:8080/"
        },
        "id": "VcBJzeM7I9eZ",
        "outputId": "70a1dea8-c001-4b2e-c77c-19582abf3747"
      },
      "source": [
        "from google.colab import drive\r\n",
        "drive.mount('/content/drive')"
      ],
      "execution_count": 2,
      "outputs": [
        {
          "output_type": "stream",
          "text": [
            "Mounted at /content/drive\n"
          ],
          "name": "stdout"
        }
      ]
    },
    {
      "cell_type": "code",
      "metadata": {
        "colab": {
          "base_uri": "https://localhost:8080/"
        },
        "id": "Vi21LSQnI-hF",
        "outputId": "45e16543-149d-4654-be58-4afb1e146a2f"
      },
      "source": [
        "cd drive/MyDrive/"
      ],
      "execution_count": 3,
      "outputs": [
        {
          "output_type": "stream",
          "text": [
            "/content/drive/MyDrive\n"
          ],
          "name": "stdout"
        }
      ]
    },
    {
      "cell_type": "code",
      "metadata": {
        "id": "Idh0GAZv1Xrh"
      },
      "source": [
        "#os.chdir(\"xxxxxxxxxxxxxx/cifar-10-batches\")\r\n",
        "batch1 = pandas.read_pickle(\"data_batch_1\")\r\n",
        "batch2 = pandas.read_pickle(\"data_batch_2\")\r\n",
        "batch3 = pandas.read_pickle(\"data_batch_3\")\r\n",
        "batch4 = pandas.read_pickle(\"data_batch_4\")\r\n",
        "batch5 = pandas.read_pickle(\"data_batch_5\")\r\n",
        "batch6 = pandas.read_pickle(\"data_batch_6\")\r\n",
        "\r\n",
        "#data=data.to_numpy()\r\n"
      ],
      "execution_count": 4,
      "outputs": []
    },
    {
      "cell_type": "code",
      "metadata": {
        "id": "87wly_j51tEH"
      },
      "source": [
        "\r\n",
        "def pre_process(x,y):\r\n",
        "  m=len(y)\r\n",
        "  \r\n",
        "  x = (x/255).astype('float32')\r\n",
        "  x=x.T\r\n",
        "  y = numpy.array(y).reshape(1,m)\r\n",
        "  yn=numpy.zeros((10,m))\r\n",
        "  \r\n",
        "  for i in range(m):\r\n",
        "    yn[y[0][i]][i]=1\r\n",
        "  yn=yn.astype('float32')\r\n",
        "\r\n",
        "  print(numpy.unique(y,return_counts=True))\r\n",
        "  return x,yn\r\n"
      ],
      "execution_count": 5,
      "outputs": []
    },
    {
      "cell_type": "code",
      "metadata": {
        "colab": {
          "base_uri": "https://localhost:8080/"
        },
        "id": "Quhobwlhr6x3",
        "outputId": "b9d405b8-cbe3-482b-eb53-f28ea6d42baa"
      },
      "source": [
        "x1=batch1[b'data']\r\n",
        "x2=batch2[b'data']\r\n",
        "x3=batch3[b'data']\r\n",
        "x4=batch4[b'data']\r\n",
        "x5=batch5[b'data']\r\n",
        "x=numpy.vstack((x1,x2,x3,x4,x5))\r\n",
        "x6=batch6[b'data']\r\n",
        "\r\n",
        "\r\n",
        "pre_y1 = batch1[b'labels']\r\n",
        "pre_y2 = batch2[b'labels']\r\n",
        "pre_y3 = batch3[b'labels']\r\n",
        "pre_y4 = batch4[b'labels']\r\n",
        "pre_y5 = batch5[b'labels']\r\n",
        "pre_y = numpy.hstack((pre_y1,pre_y2,pre_y3,pre_y4,pre_y5)).reshape(-1,1)\r\n",
        "pre_y6 = batch6[b'labels']\r\n",
        "\r\n",
        "\r\n",
        "#x_pre_train,y_pre_train=pre_process(x1,pre_y1)\r\n",
        "x,y = pre_process(x,pre_y)\r\n",
        "x_test,y_test = pre_process(x6,pre_y6)\r\n",
        "\r\n",
        "\r\n",
        "del x1,x2,x3,x4,x5,x6,pre_y1,pre_y2,pre_y3,pre_y4,pre_y5,pre_y6,batch1,batch2,batch3,batch4,batch5,batch6"
      ],
      "execution_count": 6,
      "outputs": [
        {
          "output_type": "stream",
          "text": [
            "(array([0, 1, 2, 3, 4, 5, 6, 7, 8, 9]), array([5000, 5000, 5000, 5000, 5000, 5000, 5000, 5000, 5000, 5000]))\n",
            "(array([0, 1, 2, 3, 4, 5, 6, 7, 8, 9]), array([1000, 1000, 1000, 1000, 1000, 1000, 1000, 1000, 1000, 1000]))\n"
          ],
          "name": "stdout"
        }
      ]
    },
    {
      "cell_type": "code",
      "metadata": {
        "colab": {
          "base_uri": "https://localhost:8080/",
          "height": 1000
        },
        "id": "a7xMOCdkl-yS",
        "outputId": "3bbc5d95-043a-48e5-b127-aa5e614ae43f"
      },
      "source": [
        "\r\n",
        "f=x[0:1024,0:1]\r\n",
        "#f=f.T\r\n",
        "print(numpy.shape(f))\r\n",
        "for i in range(11):\r\n",
        "  ind=(int)(numpy.random.uniform(0,50000,None))\r\n",
        "\r\n",
        "\r\n",
        "  pic=(x[0:1024,ind:ind+1]).reshape(32,32)\r\n",
        "  pic=pic/255\r\n",
        "  plt.imshow(pic, cmap = plt.cm.binary)\r\n",
        "  figure = plt.gcf()\r\n",
        "  figure.set_size_inches(1,1)\r\n",
        "  plt.axis(\"off\")\r\n",
        "  plt.show()\r\n",
        "\r\n",
        "\r\n",
        "  print(y[0:10,ind])\r\n",
        "  print()\r\n"
      ],
      "execution_count": 7,
      "outputs": [
        {
          "output_type": "stream",
          "text": [
            "(1024, 1)\n"
          ],
          "name": "stdout"
        },
        {
          "output_type": "display_data",
          "data": {
            "image/png": "[encoded data removed]",
            "text/plain": [
              "<Figure size 72x72 with 1 Axes>"
            ]
          },
          "metadata": {
            "tags": [],
            "needs_background": "light"
          }
        },
        {
          "output_type": "stream",
          "text": [
            "[0. 0. 0. 0. 0. 1. 0. 0. 0. 0.]\n",
            "\n"
          ],
          "name": "stdout"
        },
        {
          "output_type": "display_data",
          "data": {
            "image/png": "[encoded data removed]",
            "text/plain": [
              "<Figure size 72x72 with 1 Axes>"
            ]
          },
          "metadata": {
            "tags": [],
            "needs_background": "light"
          }
        },
        {
          "output_type": "stream",
          "text": [
            "[0. 0. 0. 0. 0. 1. 0. 0. 0. 0.]\n",
            "\n"
          ],
          "name": "stdout"
        },
        {
          "output_type": "display_data",
          "data": {
            "image/png": "[encoded data removed]",
            "text/plain": [
              "<Figure size 72x72 with 1 Axes>"
            ]
          },
          "metadata": {
            "tags": [],
            "needs_background": "light"
          }
        },
        {
          "output_type": "stream",
          "text": [
            "[0. 0. 0. 0. 0. 0. 0. 1. 0. 0.]\n",
            "\n"
          ],
          "name": "stdout"
        },
        {
          "output_type": "display_data",
          "data": {
            "image/png": "[encoded data removed]",
            "text/plain": [
              "<Figure size 72x72 with 1 Axes>"
            ]
          },
          "metadata": {
            "tags": [],
            "needs_background": "light"
          }
        },
        {
          "output_type": "stream",
          "text": [
            "[0. 0. 0. 1. 0. 0. 0. 0. 0. 0.]\n",
            "\n"
          ],
          "name": "stdout"
        },
        {
          "output_type": "display_data",
          "data": {
            "image/png": "[encoded data removed]",
            "text/plain": [
              "<Figure size 72x72 with 1 Axes>"
            ]
          },
          "metadata": {
            "tags": [],
            "needs_background": "light"
          }
        },
        {
          "output_type": "stream",
          "text": [
            "[0. 0. 0. 0. 0. 0. 0. 0. 1. 0.]\n",
            "\n"
          ],
          "name": "stdout"
        },
        {
          "output_type": "display_data",
          "data": {
            "image/png": "[encoded data removed]",
            "text/plain": [
              "<Figure size 72x72 with 1 Axes>"
            ]
          },
          "metadata": {
            "tags": [],
            "needs_background": "light"
          }
        },
        {
          "output_type": "stream",
          "text": [
            "[0. 0. 0. 0. 0. 0. 0. 0. 1. 0.]\n",
            "\n"
          ],
          "name": "stdout"
        },
        {
          "output_type": "display_data",
          "data": {
            "image/png": "[encoded data removed]",
            "text/plain": [
              "<Figure size 72x72 with 1 Axes>"
            ]
          },
          "metadata": {
            "tags": [],
            "needs_background": "light"
          }
        },
        {
          "output_type": "stream",
          "text": [
            "[0. 0. 0. 0. 0. 0. 0. 0. 1. 0.]\n",
            "\n"
          ],
          "name": "stdout"
        },
        {
          "output_type": "display_data",
          "data": {
            "image/png": "[encoded data removed]",
            "text/plain": [
              "<Figure size 72x72 with 1 Axes>"
            ]
          },
          "metadata": {
            "tags": [],
            "needs_background": "light"
          }
        },
        {
          "output_type": "stream",
          "text": [
            "[1. 0. 0. 0. 0. 0. 0. 0. 0. 0.]\n",
            "\n"
          ],
          "name": "stdout"
        },
        {
          "output_type": "display_data",
          "data": {
            "image/png": "[encoded data removed]",
            "text/plain": [
              "<Figure size 72x72 with 1 Axes>"
            ]
          },
          "metadata": {
            "tags": [],
            "needs_background": "light"
          }
        },
        {
          "output_type": "stream",
          "text": [
            "[1. 0. 0. 0. 0. 0. 0. 0. 0. 0.]\n",
            "\n"
          ],
          "name": "stdout"
        },
        {
          "output_type": "display_data",
          "data": {
            "image/png": "[encoded data removed]",
            "text/plain": [
              "<Figure size 72x72 with 1 Axes>"
            ]
          },
          "metadata": {
            "tags": [],
            "needs_background": "light"
          }
        },
        {
          "output_type": "stream",
          "text": [
            "[0. 0. 0. 0. 0. 0. 0. 0. 0. 1.]\n",
            "\n"
          ],
          "name": "stdout"
        },
        {
          "output_type": "display_data",
          "data": {
            "image/png": "[encoded data removed]",
            "text/plain": [
              "<Figure size 72x72 with 1 Axes>"
            ]
          },
          "metadata": {
            "tags": [],
            "needs_background": "light"
          }
        },
        {
          "output_type": "stream",
          "text": [
            "[0. 0. 0. 1. 0. 0. 0. 0. 0. 0.]\n",
            "\n"
          ],
          "name": "stdout"
        }
      ]
    },
    {
      "cell_type": "code",
      "metadata": {
        "id": "xDCX4UKr5ZKZ"
      },
      "source": [
        "class model:\r\n",
        "  def __init__(self):\r\n",
        "    self.layers = []\r\n",
        "    self.number_of_layers = 0\r\n",
        "    self.weights = {}\r\n",
        "    self.bias = {}\r\n",
        "    self.activation = 'sigmoid'\r\n",
        "\r\n",
        "\r\n",
        "  def layer(self,n):\r\n",
        "    self.layers.append(n)\r\n",
        "    self.number_of_layers += 1\r\n",
        "    return\r\n",
        "\r\n",
        "  def set_activation(self,f):\r\n",
        "    self.activation = f\r\n",
        "    return\r\n",
        "\r\n",
        "  def initialize_weights(self):\r\n",
        "\r\n",
        "    numpy.random.seed(7)\r\n",
        "    l = self.number_of_layers\r\n",
        "\r\n",
        "    for i in range(l-1):\r\n",
        "      \r\n",
        "      if self.activation == 'erelu' or self.activation == 'relu':\r\n",
        "        w = numpy.random.randn( self.layers[i + 1], self.layers[i] ) * numpy.sqrt( 2 / self.layers[i] )\r\n",
        "      else:\r\n",
        "        wrange = numpy.sqrt( 6 / ( self.layers[i]+self.layers[i+1] ) )\r\n",
        "        w = numpy.random.uniform( wrange, -wrange, ( self.layers[i + 1], self.layers[i] ) )\r\n",
        "\r\n",
        "      b = numpy.zeros( ( self.layers[i + 1], 1) )\r\n",
        "      self.bias[i] = b\r\n",
        "      self.weights[i] = w\r\n",
        "  \r\n",
        "  def sigmoid(self,z):\r\n",
        "    return 1/(1 + numpy.exp(-z))\r\n",
        "\r\n",
        "  def erelu(self,z):\r\n",
        "    #e = numpy.where( z > 0, z, 0.2 * ( math.exp(z) - 1 ) )\r\n",
        "    e = ( (z > 0) * z) + ((z <= 0) * numpy.exp(z) * 0.2)\r\n",
        "    return e\r\n",
        "\r\n",
        "  def relu(self,z):\r\n",
        "    r = ( (z > 0) * z) + ((z <= 0) * z * 0.001)\r\n",
        "    return r\r\n",
        "\r\n",
        "\r\n",
        "  def hypothesis(self,x):\r\n",
        "    alist = []\r\n",
        "    zlist = []\r\n",
        "    alist.append(x)\r\n",
        "    for i in range( self.number_of_layers - 2 ):\r\n",
        "      z = numpy.dot( self.weights[i], x ) + self.bias[i]\r\n",
        "      zlist.append(z)\r\n",
        "      if self.activation == 'erelu':\r\n",
        "        a = self.erelu(z)\r\n",
        "      elif self.activation == 'relu':\r\n",
        "        a = self.relu(z)\r\n",
        "      else:\r\n",
        "        a = self.sigmoid(z)\r\n",
        "      alist.append(a)\r\n",
        "      x = a\r\n",
        "    z = numpy.dot( self.weights[self.number_of_layers - 2], x ) + self.bias[self.number_of_layers - 2]\r\n",
        "    zlist.append(z)\r\n",
        "    a = numpy.exp(z) / numpy.sum( numpy.exp(z), axis=0 )\r\n",
        "    alist.append(a)\r\n",
        "    h = a\r\n",
        "    return h,alist,zlist\r\n",
        "\r\n",
        "\r\n",
        "  def predict(self,x,y):\r\n",
        "    h, temp, temp1 = self.hypothesis(x)\r\n",
        "    cost=0\r\n",
        "    m=numpy.shape(h)[1]\r\n",
        "\r\n",
        "    for i in range(m):\r\n",
        "      if numpy.argmax( h[:,i:i+1] ) != numpy.argmax( y[:,i:i+1] ):\r\n",
        "        maxx = numpy.max(h[:,i:i+1])\r\n",
        "        cost += 1\r\n",
        "    return ((m-cost)/m)*100\r\n",
        "\r\n",
        "  def test(self):\r\n",
        "    print(\"EX\")\r\n"
      ],
      "execution_count": 12,
      "outputs": []
    },
    {
      "cell_type": "code",
      "metadata": {
        "id": "IUOxctw8Axgg"
      },
      "source": [
        "class trainer:\r\n",
        "  \r\n",
        "  def __init__(self,model,alpha,mini_batch,print_frequency,show_plot):\r\n",
        "    self.model = model\r\n",
        "    self.alpha = alpha\r\n",
        "    self.print_frequency = print_frequency\r\n",
        "    self.show_plot = show_plot\r\n",
        "\r\n",
        "\r\n",
        "\r\n",
        "  def Loss(self,h,y):\r\n",
        "    lsum = numpy.sum( numpy.multiply( y, numpy.log(h) ) )\r\n",
        "    return -lsum\r\n",
        "    \r\n",
        "    \r\n",
        "  def back_propagation(self,alist,zlist,x,h,y):\r\n",
        "    dwlist = {}\r\n",
        "    dblist = {}\r\n",
        "    num = self.model.number_of_layers-2\r\n",
        "    m = numpy.shape(x)[1]\r\n",
        "\r\n",
        "\r\n",
        "    dz = h - y\r\n",
        "    dw = (1./ m) * ( numpy.dot ( dz, alist[num].T ) )\r\n",
        "    db = (1./ m) * numpy.sum( dz, axis=1, keepdims = True)\r\n",
        "    dwlist[num] = dw\r\n",
        "    dblist[num] = db\r\n",
        "    num -= 1\r\n",
        "    \r\n",
        "\r\n",
        "    for i in range(num,-1,-1):\r\n",
        "      da = numpy.dot(self.model.weights[i+1].T, dz)\r\n",
        "      if self.model.activation == 'erelu':\r\n",
        "        z = zlist[i]\r\n",
        "        de = ( (z > 0) * 1) + ((z <= 0) * alist[i+1] * 0.2)\r\n",
        "        dz = da * de\r\n",
        "      elif self.model.activation == 'relu':\r\n",
        "        z = zlist[i]\r\n",
        "        dr = ( (z > 0) * 1) + ((z <= 0) * 0.1)\r\n",
        "        dz = da * de\r\n",
        "      else:\r\n",
        "        dz = da * alist[i+1] * (1-alist[i+1])\r\n",
        "      dw=(1./m) * ( numpy.dot(dz, alist[i].T) )\r\n",
        "      db=(1./m) * ( numpy.sum(dz, axis=1, keepdims = True) )\r\n",
        "      dwlist[i] = dw\r\n",
        "      dblist[i] = db\r\n",
        "\r\n",
        "    return dwlist,dblist\r\n",
        "\r\n",
        "  def mini_batch(self,x,y,batch_size):\r\n",
        "    batches = [] \r\n",
        "    data = numpy.vstack((x,y))\r\n",
        "    m = data.shape[1]\r\n",
        "    numpy.random.seed(7)\r\n",
        "    p = numpy.random.permutation(m)\r\n",
        "    data = data[:,p]\r\n",
        "    batch_count = (int)(data.shape[1]/batch_size)\r\n",
        "    x_size = numpy.shape(x)[0]\r\n",
        "    y_size = numpy.shape(y)[0]\r\n",
        "\r\n",
        "\r\n",
        "    for i in range(batch_count): \r\n",
        "        mini_batch = data[:,i*batch_size:(i+1)*batch_size] \r\n",
        "        xm = mini_batch[0:x_size,:] \r\n",
        "        ym = mini_batch[x_size:x_size+y_size,:]#.reshape((-1,1))\r\n",
        "        batches.append((xm,ym))\r\n",
        "        \r\n",
        "    return batches,batch_count\r\n",
        "\r\n",
        "\r\n",
        "  def train_model(self,x,y,x_test,y_test,epoch,batch_size):\r\n",
        "    loss_list = []\r\n",
        "    test_loss_list = []\r\n",
        "    for e in range(epoch):\r\n",
        "      batches,batch_count = self.mini_batch(x,y,batch_size)\r\n",
        "      loss = 0\r\n",
        "\r\n",
        "      for b in batches:\r\n",
        "        batch_x, batch_y = b\r\n",
        "        h, alist, zlist = self.model.hypothesis(batch_x)\r\n",
        "        dwlist, dblist = self.back_propagation(alist, zlist, batch_x, h, batch_y)\r\n",
        "\r\n",
        "\r\n",
        "        loss += self.Loss(h, batch_y)\r\n",
        "\r\n",
        "\r\n",
        "        for each in self.model.weights.keys():\r\n",
        "          self.model.weights[each] -= self.alpha * dwlist[each]\r\n",
        "          self.model.bias[each] -= self.alpha * dblist[each]\r\n",
        "      \r\n",
        "\r\n",
        "      h_test, aaa, xxx = self.model.hypothesis(x_test)\r\n",
        "      test_loss = self.Loss(h_test,y_test)\r\n",
        "      #loss*=batch_size/100000\r\n",
        "      loss_list.append(loss/50000)\r\n",
        "      test_loss_list.append(test_loss/10000)\r\n",
        "         \r\n",
        "\r\n",
        "      if e % self.print_frequency == 0:\r\n",
        "        acc = self.model.predict(x_test,y_test)\r\n",
        "        print(\"epoch: \",e,\" Loss: \",loss,\" Test Loss:\",test_loss,\" Acc:\",acc)\r\n",
        "    \r\n",
        "    if (self.show_plot==True):\r\n",
        "      plt.plot(loss_list,label='train loss')\r\n",
        "      plt.plot(test_loss_list,label='test loss')\r\n",
        "      plt.ylabel('loss')\r\n",
        "      plt.xlabel('iterations')\r\n",
        "      plt.show()\r\n",
        "    return self.model.weights\r\n"
      ],
      "execution_count": 13,
      "outputs": []
    },
    {
      "cell_type": "code",
      "metadata": {
        "id": "GJUQ2y_j2WN1"
      },
      "source": [
        "m=model()\r\n",
        "m.layer(1024)\r\n",
        "#m.layer(512)\r\n",
        "m.layer(216)\r\n",
        "#m.layer(108)\r\n",
        "m.layer(64)\r\n",
        "#m.layer(32)\r\n",
        "m.layer(16)\r\n",
        "m.layer(10)\r\n",
        "m.set_activation('erelu')\r\n",
        "m.initialize_weights()\r\n",
        "\r\n"
      ],
      "execution_count": 14,
      "outputs": []
    },
    {
      "cell_type": "code",
      "metadata": {
        "colab": {
          "base_uri": "https://localhost:8080/",
          "height": 1000
        },
        "id": "LOR7GT2V8026",
        "outputId": "71ff96bb-4a41-401a-c774-3e8da997c983"
      },
      "source": [
        "t=trainer(m,0.1,1,1,True)\r\n",
        "w=t.train_model(x,y,x_test,y_test,300,256)"
      ],
      "execution_count": 15,
      "outputs": [
        {
          "output_type": "stream",
          "text": [
            "epoch:  0  Loss:  110929.66466136862  Test Loss: 21010.189523837485  Acc: 23.669999999999998\n",
            "epoch:  1  Loss:  103888.7606980389  Test Loss: 20266.068874096025  Acc: 26.790000000000003\n",
            "epoch:  2  Loss:  100381.25363734929  Test Loss: 19809.51521220996  Acc: 28.67\n",
            "epoch:  3  Loss:  98080.14960010322  Test Loss: 19494.451321397053  Acc: 29.720000000000002\n",
            "epoch:  4  Loss:  95948.70187342422  Test Loss: 19146.56708285868  Acc: 31.680000000000003\n",
            "epoch:  5  Loss:  94226.97501066007  Test Loss: 18960.015866464048  Acc: 32.22\n",
            "epoch:  6  Loss:  92859.5471776239  Test Loss: 18782.38357843064  Acc: 32.97\n",
            "epoch:  7  Loss:  91731.93542018531  Test Loss: 18426.67754972457  Acc: 34.089999999999996\n",
            "epoch:  8  Loss:  90711.93341274247  Test Loss: 18209.131288083005  Acc: 34.870000000000005\n",
            "epoch:  9  Loss:  89765.51923745828  Test Loss: 18233.76918315703  Acc: 34.42\n",
            "epoch:  10  Loss:  88830.1425138567  Test Loss: 18127.163490532996  Acc: 34.63\n",
            "epoch:  11  Loss:  88044.9878637923  Test Loss: 17815.36462639586  Acc: 36.02\n",
            "epoch:  12  Loss:  87396.7764651547  Test Loss: 17650.257862195132  Acc: 37.01\n",
            "epoch:  13  Loss:  86409.36628410214  Test Loss: 17505.19664603545  Acc: 36.95\n",
            "epoch:  14  Loss:  85812.94858127307  Test Loss: 17373.840219543024  Acc: 37.91\n",
            "epoch:  15  Loss:  85160.90718093581  Test Loss: 17242.197289462565  Acc: 38.49\n",
            "epoch:  16  Loss:  84427.54918021278  Test Loss: 17246.774202559063  Acc: 38.37\n",
            "epoch:  17  Loss:  83904.4153849147  Test Loss: 17196.221177936888  Acc: 38.84\n",
            "epoch:  18  Loss:  83374.37057010231  Test Loss: 17200.86016402747  Acc: 38.51\n",
            "epoch:  19  Loss:  82709.662993509  Test Loss: 17198.010260177023  Acc: 38.54\n",
            "epoch:  20  Loss:  82180.01078735536  Test Loss: 17104.353948444128  Acc: 39.25\n",
            "epoch:  21  Loss:  81764.77621767842  Test Loss: 17046.278869835045  Acc: 39.56\n",
            "epoch:  22  Loss:  81392.8635516494  Test Loss: 16839.730533877424  Acc: 40.25\n",
            "epoch:  23  Loss:  80935.28712337333  Test Loss: 16935.22099954936  Acc: 39.85\n",
            "epoch:  24  Loss:  80345.96104441791  Test Loss: 16926.00675930336  Acc: 40.07\n",
            "epoch:  25  Loss:  79980.52611576336  Test Loss: 16997.321373466  Acc: 39.800000000000004\n",
            "epoch:  26  Loss:  79582.7669296967  Test Loss: 17011.725309955276  Acc: 40.06\n",
            "epoch:  27  Loss:  79195.73755527448  Test Loss: 17534.838867491333  Acc: 38.64\n",
            "epoch:  28  Loss:  78861.17582357663  Test Loss: 16782.068744160977  Acc: 40.54\n",
            "epoch:  29  Loss:  78261.19351191753  Test Loss: 16744.113889586246  Acc: 40.89\n",
            "epoch:  30  Loss:  77864.64093455131  Test Loss: 16659.482607572663  Acc: 41.02\n",
            "epoch:  31  Loss:  77480.32722112747  Test Loss: 16812.523323656722  Acc: 40.86\n",
            "epoch:  32  Loss:  77159.0019605917  Test Loss: 16768.730395707273  Acc: 41.07\n",
            "epoch:  33  Loss:  76609.63931761381  Test Loss: 16861.238894706716  Acc: 41.04\n",
            "epoch:  34  Loss:  76420.54750882287  Test Loss: 16699.862595914063  Acc: 41.63\n",
            "epoch:  35  Loss:  76005.09436355332  Test Loss: 16743.45420103932  Acc: 41.49\n",
            "epoch:  36  Loss:  75710.64009415156  Test Loss: 16816.94068682652  Acc: 41.42\n",
            "epoch:  37  Loss:  75483.1247313686  Test Loss: 17038.189323910883  Acc: 40.52\n",
            "epoch:  38  Loss:  74955.28414782358  Test Loss: 16891.61921067943  Acc: 41.3\n",
            "epoch:  39  Loss:  74694.64033525944  Test Loss: 16932.278947396426  Acc: 40.69\n",
            "epoch:  40  Loss:  74475.47837805742  Test Loss: 17057.325897756138  Acc: 40.92\n",
            "epoch:  41  Loss:  73905.24696296529  Test Loss: 16999.32589426401  Acc: 41.27\n",
            "epoch:  42  Loss:  73730.17830144073  Test Loss: 16891.007717351593  Acc: 40.949999999999996\n",
            "epoch:  43  Loss:  73294.74512981369  Test Loss: 16746.121917716202  Acc: 41.86\n",
            "epoch:  44  Loss:  73162.91613339263  Test Loss: 16943.798408289404  Acc: 41.260000000000005\n",
            "epoch:  45  Loss:  72955.12729237611  Test Loss: 17124.18757762414  Acc: 40.65\n",
            "epoch:  46  Loss:  72509.81499875426  Test Loss: 16752.29658039458  Acc: 41.82\n",
            "epoch:  47  Loss:  72407.0633821104  Test Loss: 17011.882568968646  Acc: 41.14\n",
            "epoch:  48  Loss:  71849.43153534184  Test Loss: 17353.39491514914  Acc: 40.339999999999996\n",
            "epoch:  49  Loss:  71616.33188178345  Test Loss: 16914.23547003201  Acc: 41.8\n",
            "epoch:  50  Loss:  71379.10246514298  Test Loss: 16782.60383516667  Acc: 42.1\n",
            "epoch:  51  Loss:  71245.11405996681  Test Loss: 17177.70800705795  Acc: 40.910000000000004\n",
            "epoch:  52  Loss:  70838.22288156042  Test Loss: 17379.012024576794  Acc: 40.489999999999995\n",
            "epoch:  53  Loss:  70841.44872666945  Test Loss: 17320.01483711969  Acc: 41.15\n",
            "epoch:  54  Loss:  70076.0049275807  Test Loss: 17272.95237435118  Acc: 41.15\n",
            "epoch:  55  Loss:  70057.84780596697  Test Loss: 17106.222069106254  Acc: 41.0\n",
            "epoch:  56  Loss:  69908.29648250437  Test Loss: 17172.863152573365  Acc: 41.410000000000004\n",
            "epoch:  57  Loss:  69376.82170941049  Test Loss: 17062.793054314017  Acc: 42.089999999999996\n",
            "epoch:  58  Loss:  69181.46346460785  Test Loss: 17588.43021521414  Acc: 40.87\n",
            "epoch:  59  Loss:  69330.62354217608  Test Loss: 17123.43445489285  Acc: 42.59\n",
            "epoch:  60  Loss:  68650.98265575786  Test Loss: 17854.6042182567  Acc: 40.08\n",
            "epoch:  61  Loss:  68508.6288073188  Test Loss: 17524.652304815627  Acc: 41.099999999999994\n",
            "epoch:  62  Loss:  68327.97829443515  Test Loss: 17370.71929120624  Acc: 41.199999999999996\n",
            "epoch:  63  Loss:  67982.28043054063  Test Loss: 17730.199389760026  Acc: 40.5\n",
            "epoch:  64  Loss:  68152.05081203624  Test Loss: 17520.789503113654  Acc: 41.04\n",
            "epoch:  65  Loss:  67441.88089677937  Test Loss: 17449.89222372044  Acc: 41.46\n",
            "epoch:  66  Loss:  67197.59590020834  Test Loss: 17228.14220586804  Acc: 42.35\n",
            "epoch:  67  Loss:  66908.59794153133  Test Loss: 17688.13171355206  Acc: 41.199999999999996\n",
            "epoch:  68  Loss:  67042.50898969566  Test Loss: 17348.584204032857  Acc: 41.870000000000005\n",
            "epoch:  69  Loss:  66505.13226024927  Test Loss: 17414.128346859237  Acc: 41.72\n",
            "epoch:  70  Loss:  66330.9509909836  Test Loss: 17360.57179217997  Acc: 41.449999999999996\n",
            "epoch:  71  Loss:  66215.23967005241  Test Loss: 18396.73408522938  Acc: 39.489999999999995\n",
            "epoch:  72  Loss:  66004.29331851917  Test Loss: 17303.514012472828  Acc: 42.34\n",
            "epoch:  73  Loss:  65781.35301604954  Test Loss: 17886.281018137714  Acc: 40.72\n",
            "epoch:  74  Loss:  65677.43061282311  Test Loss: 17755.24220037376  Acc: 41.67\n",
            "epoch:  75  Loss:  65266.321505056825  Test Loss: 18123.985575117516  Acc: 40.410000000000004\n",
            "epoch:  76  Loss:  64993.43750945834  Test Loss: 17980.010412189684  Acc: 40.589999999999996\n",
            "epoch:  77  Loss:  65044.15017921514  Test Loss: 19335.501678192202  Acc: 37.82\n",
            "epoch:  78  Loss:  64613.72905089055  Test Loss: 17311.20531290639  Acc: 41.83\n",
            "epoch:  79  Loss:  64270.49502149732  Test Loss: 17765.83914336598  Acc: 40.93\n",
            "epoch:  80  Loss:  64234.26662545374  Test Loss: 19854.32503968098  Acc: 36.980000000000004\n",
            "epoch:  81  Loss:  64052.41169765526  Test Loss: 17772.27325608934  Acc: 41.08\n",
            "epoch:  82  Loss:  63651.78460072996  Test Loss: 17563.228850403535  Acc: 41.83\n",
            "epoch:  83  Loss:  63131.55591678695  Test Loss: 17866.72956067374  Acc: 41.44\n",
            "epoch:  84  Loss:  63344.51130515604  Test Loss: 17962.979609447837  Acc: 41.42\n",
            "epoch:  85  Loss:  63353.44387021079  Test Loss: 18378.883861596434  Acc: 40.02\n",
            "epoch:  86  Loss:  62908.78631626073  Test Loss: 17733.534957121574  Acc: 41.9\n",
            "epoch:  87  Loss:  62821.425109719785  Test Loss: 17981.81532334685  Acc: 41.67\n",
            "epoch:  88  Loss:  62151.25370460488  Test Loss: 18668.24500871633  Acc: 39.83\n",
            "epoch:  89  Loss:  62403.97562520714  Test Loss: 17918.897225405348  Acc: 41.79\n",
            "epoch:  90  Loss:  62157.98960328071  Test Loss: 18260.78658290372  Acc: 40.73\n",
            "epoch:  91  Loss:  61705.0844914815  Test Loss: 18793.393493163152  Acc: 40.54\n",
            "epoch:  92  Loss:  61796.422089968306  Test Loss: 17677.759379492465  Acc: 41.8\n",
            "epoch:  93  Loss:  61349.60029927585  Test Loss: 20343.541624498794  Acc: 37.37\n",
            "epoch:  94  Loss:  61203.26557666078  Test Loss: 17591.101807034378  Acc: 42.88\n",
            "epoch:  95  Loss:  60942.96787471756  Test Loss: 18617.210752996496  Acc: 40.43\n",
            "epoch:  96  Loss:  61189.78704363697  Test Loss: 18031.027047900392  Acc: 42.26\n",
            "epoch:  97  Loss:  60677.645326456804  Test Loss: 18212.17932122899  Acc: 41.959999999999994\n",
            "epoch:  98  Loss:  60743.32876511828  Test Loss: 19772.400509720334  Acc: 38.769999999999996\n",
            "epoch:  99  Loss:  60242.25278715094  Test Loss: 19678.0874256585  Acc: 38.129999999999995\n",
            "epoch:  100  Loss:  59878.09449188003  Test Loss: 18357.020409504796  Acc: 41.32\n",
            "epoch:  101  Loss:  59792.67193127262  Test Loss: 17522.952260636008  Acc: 42.38\n",
            "epoch:  102  Loss:  60445.85485310924  Test Loss: 18714.58186668716  Acc: 41.089999999999996\n",
            "epoch:  103  Loss:  59408.53237229133  Test Loss: 18262.901554130905  Acc: 42.27\n",
            "epoch:  104  Loss:  59360.16804156609  Test Loss: 19859.55119653037  Acc: 39.08\n",
            "epoch:  105  Loss:  59323.76098383253  Test Loss: 18335.754070564697  Acc: 42.14\n",
            "epoch:  106  Loss:  59276.81920556888  Test Loss: 19048.107508780588  Acc: 40.37\n",
            "epoch:  107  Loss:  59265.986483161294  Test Loss: 18557.10102760855  Acc: 41.46\n",
            "epoch:  108  Loss:  58001.889371778074  Test Loss: 18946.41321151678  Acc: 41.370000000000005\n",
            "epoch:  109  Loss:  58758.722739043435  Test Loss: 19194.567948734773  Acc: 39.67\n",
            "epoch:  110  Loss:  58085.508991996954  Test Loss: 19006.59876194577  Acc: 41.25\n",
            "epoch:  111  Loss:  57874.063010033125  Test Loss: 18712.387722034444  Acc: 41.57\n",
            "epoch:  112  Loss:  57999.75889651567  Test Loss: 19043.077218768794  Acc: 41.53\n",
            "epoch:  113  Loss:  57678.56547738164  Test Loss: 19485.073244773914  Acc: 40.73\n",
            "epoch:  114  Loss:  57748.55767233465  Test Loss: 18295.14886992731  Acc: 42.4\n",
            "epoch:  115  Loss:  57946.09119880169  Test Loss: 19188.547688510243  Acc: 40.489999999999995\n",
            "epoch:  116  Loss:  57044.4723996206  Test Loss: 19946.649137372788  Acc: 39.56\n",
            "epoch:  117  Loss:  56947.939744753305  Test Loss: 19849.035786683624  Acc: 38.97\n",
            "epoch:  118  Loss:  56717.18623916691  Test Loss: 18427.994647680214  Acc: 42.51\n",
            "epoch:  119  Loss:  56571.02814921454  Test Loss: 18934.193474079817  Acc: 41.28\n",
            "epoch:  120  Loss:  56554.5307954482  Test Loss: 19048.86054728019  Acc: 41.58\n",
            "epoch:  121  Loss:  56164.9197414738  Test Loss: 19333.69339554649  Acc: 40.64\n",
            "epoch:  122  Loss:  56344.85882077374  Test Loss: 19461.30694573962  Acc: 40.9\n",
            "epoch:  123  Loss:  55908.551781947084  Test Loss: 18963.57553166861  Acc: 42.32\n",
            "epoch:  124  Loss:  55643.457660364875  Test Loss: 20416.546338135206  Acc: 39.4\n",
            "epoch:  125  Loss:  56222.0963084668  Test Loss: 19430.659144935384  Acc: 41.43\n",
            "epoch:  126  Loss:  55424.25223708045  Test Loss: 19166.952520997907  Acc: 42.25\n",
            "epoch:  127  Loss:  55316.99362109674  Test Loss: 19217.617402230888  Acc: 41.63\n",
            "epoch:  128  Loss:  55119.01744569995  Test Loss: 21587.401859084894  Acc: 38.14\n",
            "epoch:  129  Loss:  54629.78968294978  Test Loss: 18972.925507388343  Acc: 42.47\n",
            "epoch:  130  Loss:  54642.71454270479  Test Loss: 20855.6387042469  Acc: 39.900000000000006\n",
            "epoch:  131  Loss:  54562.75884374888  Test Loss: 20402.625431020493  Acc: 39.32\n",
            "epoch:  132  Loss:  54926.507936684444  Test Loss: 19223.227346130127  Acc: 41.22\n",
            "epoch:  133  Loss:  54360.566018025085  Test Loss: 19938.164102182684  Acc: 41.18\n",
            "epoch:  134  Loss:  54097.546250444146  Test Loss: 19292.486447193496  Acc: 42.13\n",
            "epoch:  135  Loss:  53969.43675958989  Test Loss: 19574.100121050255  Acc: 41.55\n",
            "epoch:  136  Loss:  53856.78567724633  Test Loss: 21143.9377650466  Acc: 39.31\n",
            "epoch:  137  Loss:  53397.12690792208  Test Loss: 20820.739193651723  Acc: 40.02\n",
            "epoch:  138  Loss:  53466.92520598645  Test Loss: 20585.295081635548  Acc: 39.33\n",
            "epoch:  139  Loss:  53432.371727456826  Test Loss: 19957.66774326543  Acc: 40.82\n",
            "epoch:  140  Loss:  53575.82551911055  Test Loss: 21251.24378265647  Acc: 38.550000000000004\n",
            "epoch:  141  Loss:  53331.02229114388  Test Loss: 19363.14840647236  Acc: 42.69\n",
            "epoch:  142  Loss:  52841.94522171456  Test Loss: 19786.366721639293  Acc: 41.620000000000005\n",
            "epoch:  143  Loss:  52978.96418000723  Test Loss: 20411.325825319575  Acc: 40.25\n",
            "epoch:  144  Loss:  52746.81414245632  Test Loss: 20456.877910959767  Acc: 41.199999999999996\n",
            "epoch:  145  Loss:  52252.40978988065  Test Loss: 20183.232602671298  Acc: 41.03\n",
            "epoch:  146  Loss:  52660.46053276489  Test Loss: 20081.233005794573  Acc: 41.27\n",
            "epoch:  147  Loss:  51839.47109091255  Test Loss: 22147.660427042243  Acc: 38.4\n",
            "epoch:  148  Loss:  52042.21969109988  Test Loss: 19832.631083729244  Acc: 42.47\n",
            "epoch:  149  Loss:  51661.27016305934  Test Loss: 20470.739798498045  Acc: 40.64\n",
            "epoch:  150  Loss:  51924.29976541103  Test Loss: 20129.240199852815  Acc: 42.18\n",
            "epoch:  151  Loss:  51416.36930243  Test Loss: 20862.831573673357  Acc: 39.33\n",
            "epoch:  152  Loss:  51629.78917375341  Test Loss: 20823.79104647366  Acc: 40.489999999999995\n",
            "epoch:  153  Loss:  51007.4673277654  Test Loss: 20906.835678433632  Acc: 41.11\n",
            "epoch:  154  Loss:  50922.40125105538  Test Loss: 20500.7005343281  Acc: 40.86\n",
            "epoch:  155  Loss:  50818.084878018424  Test Loss: 22362.10551556312  Acc: 38.54\n",
            "epoch:  156  Loss:  50883.68435788409  Test Loss: 20962.486012174726  Acc: 40.11\n",
            "epoch:  157  Loss:  50941.39541126037  Test Loss: 20759.08274096851  Acc: 40.71\n",
            "epoch:  158  Loss:  50183.281873811844  Test Loss: 22534.327663480337  Acc: 38.67\n",
            "epoch:  159  Loss:  50735.08697427333  Test Loss: 22194.356033156415  Acc: 38.519999999999996\n",
            "epoch:  160  Loss:  50496.57378840183  Test Loss: 21671.697245338743  Acc: 40.75\n",
            "epoch:  161  Loss:  50003.34412663787  Test Loss: 20571.87881430228  Acc: 42.33\n",
            "epoch:  162  Loss:  50207.00297505936  Test Loss: 20734.141936629214  Acc: 41.449999999999996\n",
            "epoch:  163  Loss:  49771.2956920913  Test Loss: 21550.488885723422  Acc: 39.39\n",
            "epoch:  164  Loss:  49845.83288100893  Test Loss: 21281.80505711771  Acc: 39.73\n",
            "epoch:  165  Loss:  49204.49698528377  Test Loss: 23779.914894267964  Acc: 37.28\n",
            "epoch:  166  Loss:  49132.73506383963  Test Loss: 22093.237701634454  Acc: 39.43\n",
            "epoch:  167  Loss:  49661.673305295204  Test Loss: 21017.494724436267  Acc: 41.17\n",
            "epoch:  168  Loss:  49193.65679538847  Test Loss: 21198.93911929335  Acc: 41.11\n",
            "epoch:  169  Loss:  49224.00629317339  Test Loss: 22960.446402058715  Acc: 38.17\n",
            "epoch:  170  Loss:  48515.05234739532  Test Loss: 23260.31466380257  Acc: 39.35\n",
            "epoch:  171  Loss:  48606.06246184852  Test Loss: 20978.29993241538  Acc: 40.2\n",
            "epoch:  172  Loss:  48746.674324937725  Test Loss: 22124.008093689677  Acc: 39.129999999999995\n",
            "epoch:  173  Loss:  48500.98093349669  Test Loss: 22394.828927206403  Acc: 39.04\n",
            "epoch:  174  Loss:  48174.64685458821  Test Loss: 21537.68821238705  Acc: 41.02\n",
            "epoch:  175  Loss:  48612.65116371689  Test Loss: 24555.522175010552  Acc: 36.94\n",
            "epoch:  176  Loss:  48842.790382506006  Test Loss: 21911.990765366852  Acc: 39.61\n",
            "epoch:  177  Loss:  47474.3047147362  Test Loss: 21725.686876047963  Acc: 41.07\n",
            "epoch:  178  Loss:  47071.01791437348  Test Loss: 22037.397724130893  Acc: 40.83\n",
            "epoch:  179  Loss:  48155.26819442818  Test Loss: 21767.152652317196  Acc: 41.32\n",
            "epoch:  180  Loss:  47624.02170086864  Test Loss: 22123.73890310715  Acc: 39.97\n",
            "epoch:  181  Loss:  47640.535714283214  Test Loss: 23913.091980380108  Acc: 38.07\n",
            "epoch:  182  Loss:  48554.146037327206  Test Loss: 22035.294963364115  Acc: 39.879999999999995\n",
            "epoch:  183  Loss:  46982.267240798705  Test Loss: 22120.94945540158  Acc: 41.449999999999996\n",
            "epoch:  184  Loss:  46845.53853172399  Test Loss: 24182.10548884419  Acc: 38.32\n",
            "epoch:  185  Loss:  46834.44196862188  Test Loss: 22276.192800097575  Acc: 40.45\n",
            "epoch:  186  Loss:  46459.45643727879  Test Loss: 23327.5863945745  Acc: 39.2\n",
            "epoch:  187  Loss:  46788.82059477907  Test Loss: 22430.523294819875  Acc: 40.12\n",
            "epoch:  188  Loss:  46524.64156218869  Test Loss: 22203.689954346868  Acc: 41.04\n",
            "epoch:  189  Loss:  46248.56827231612  Test Loss: 23203.35571098003  Acc: 40.33\n",
            "epoch:  190  Loss:  46172.96718831633  Test Loss: 25521.677639032125  Acc: 37.47\n",
            "epoch:  191  Loss:  46076.14059685952  Test Loss: 22117.164655479042  Acc: 40.68\n",
            "epoch:  192  Loss:  46863.15306576867  Test Loss: 23342.183810735918  Acc: 38.72\n",
            "epoch:  193  Loss:  45021.106674892166  Test Loss: 23082.890720252883  Acc: 39.04\n",
            "epoch:  194  Loss:  44969.091959735146  Test Loss: 24227.812664228284  Acc: 39.35\n",
            "epoch:  195  Loss:  46678.92067713419  Test Loss: 22831.427298397448  Acc: 40.160000000000004\n",
            "epoch:  196  Loss:  45354.268695646926  Test Loss: 23286.072696381623  Acc: 40.23\n",
            "epoch:  197  Loss:  45985.77100579432  Test Loss: 23079.43642374947  Acc: 38.42\n",
            "epoch:  198  Loss:  44334.15956377351  Test Loss: 23169.5258138092  Acc: 40.48\n",
            "epoch:  199  Loss:  45253.721296362986  Test Loss: 22314.25410583812  Acc: 40.14\n",
            "epoch:  200  Loss:  45602.81822212093  Test Loss: 24067.53643638929  Acc: 39.37\n",
            "epoch:  201  Loss:  45244.42728976808  Test Loss: 22551.317903366686  Acc: 41.36\n",
            "epoch:  202  Loss:  44619.13954373845  Test Loss: 24833.747199524812  Acc: 38.87\n",
            "epoch:  203  Loss:  44766.37067464235  Test Loss: 24000.922969710486  Acc: 39.96\n",
            "epoch:  204  Loss:  44569.036665800224  Test Loss: 23540.029530848344  Acc: 40.089999999999996\n",
            "epoch:  205  Loss:  43757.82601592173  Test Loss: 24215.788906512396  Acc: 39.989999999999995\n",
            "epoch:  206  Loss:  44805.041931130225  Test Loss: 22735.92326024563  Acc: 40.1\n",
            "epoch:  207  Loss:  43859.90241502364  Test Loss: 24274.8673218773  Acc: 38.800000000000004\n",
            "epoch:  208  Loss:  44836.451289378296  Test Loss: 24323.3418709597  Acc: 39.28\n",
            "epoch:  209  Loss:  43616.114174072995  Test Loss: 26553.278759328034  Acc: 37.76\n",
            "epoch:  210  Loss:  43495.77342065804  Test Loss: 24904.008614822822  Acc: 39.53\n",
            "epoch:  211  Loss:  43768.71721953243  Test Loss: 25401.174556717542  Acc: 38.71\n",
            "epoch:  212  Loss:  43395.94976992076  Test Loss: 25567.525067324284  Acc: 38.519999999999996\n",
            "epoch:  213  Loss:  43843.784366958185  Test Loss: 25253.523980787453  Acc: 38.49\n",
            "epoch:  214  Loss:  43130.944651987564  Test Loss: 25519.028868993897  Acc: 38.2\n",
            "epoch:  215  Loss:  43731.21033252277  Test Loss: 25026.983626009904  Acc: 39.51\n",
            "epoch:  216  Loss:  42933.71890312273  Test Loss: 24094.485780576615  Acc: 40.150000000000006\n",
            "epoch:  217  Loss:  43402.93703856561  Test Loss: 24392.854519530443  Acc: 39.75\n",
            "epoch:  218  Loss:  42594.646212326435  Test Loss: 24455.22068252756  Acc: 39.64\n",
            "epoch:  219  Loss:  43020.2014629296  Test Loss: 25310.70614848348  Acc: 38.68\n",
            "epoch:  220  Loss:  42443.17448862655  Test Loss: 26346.162045088135  Acc: 37.78\n",
            "epoch:  221  Loss:  43109.14839581519  Test Loss: 25663.60945125566  Acc: 39.69\n",
            "epoch:  222  Loss:  42846.560118087844  Test Loss: 25903.90359255554  Acc: 38.78\n",
            "epoch:  223  Loss:  42741.01075056103  Test Loss: 24955.844584643088  Acc: 38.91\n",
            "epoch:  224  Loss:  41785.520738292  Test Loss: 24208.007914715014  Acc: 41.089999999999996\n",
            "epoch:  225  Loss:  41875.93093626926  Test Loss: 26578.720635846174  Acc: 37.92\n",
            "epoch:  226  Loss:  42836.32183057801  Test Loss: 23887.8221069481  Acc: 40.43\n",
            "epoch:  227  Loss:  41724.34132389111  Test Loss: 24548.627057291236  Acc: 39.69\n",
            "epoch:  228  Loss:  42084.93937916995  Test Loss: 26707.707152147923  Acc: 36.79\n",
            "epoch:  229  Loss:  41419.54397502273  Test Loss: 25762.950216833742  Acc: 39.65\n",
            "epoch:  230  Loss:  41653.803893054064  Test Loss: 25508.039231490206  Acc: 39.78\n",
            "epoch:  231  Loss:  41821.10074120665  Test Loss: 25461.358338373404  Acc: 39.43\n",
            "epoch:  232  Loss:  40678.60673270922  Test Loss: 25624.242549660903  Acc: 39.15\n",
            "epoch:  233  Loss:  40976.929938794616  Test Loss: 28737.05404479224  Acc: 37.44\n",
            "epoch:  234  Loss:  40858.20750498947  Test Loss: 26444.35981201823  Acc: 38.96\n",
            "epoch:  235  Loss:  41325.152341899295  Test Loss: 25853.36435435191  Acc: 39.11\n",
            "epoch:  236  Loss:  41830.04592198374  Test Loss: 25778.677850731918  Acc: 39.56\n",
            "epoch:  237  Loss:  40940.67231441258  Test Loss: 25508.078788600713  Acc: 40.050000000000004\n",
            "epoch:  238  Loss:  41071.56504485106  Test Loss: 25760.154585360833  Acc: 40.65\n",
            "epoch:  239  Loss:  40315.89024678435  Test Loss: 25172.45177423171  Acc: 40.03\n",
            "epoch:  240  Loss:  41124.03278207046  Test Loss: 26565.975600562222  Acc: 38.73\n",
            "epoch:  241  Loss:  40356.41451351396  Test Loss: 26468.939468084038  Acc: 38.37\n",
            "epoch:  242  Loss:  40225.01867415912  Test Loss: 25526.037971205744  Acc: 40.27\n",
            "epoch:  243  Loss:  40051.0758927943  Test Loss: 28383.759333077014  Acc: 36.77\n",
            "epoch:  244  Loss:  39635.18336866301  Test Loss: 29334.64812346163  Acc: 36.57\n",
            "epoch:  245  Loss:  40756.12060164905  Test Loss: 25776.992106557478  Acc: 40.08\n",
            "epoch:  246  Loss:  39913.4434601165  Test Loss: 26304.186551789204  Acc: 39.18\n",
            "epoch:  247  Loss:  39815.88299602504  Test Loss: 26727.540433556478  Acc: 39.17\n",
            "epoch:  248  Loss:  40577.64683074348  Test Loss: 26686.48364510303  Acc: 38.550000000000004\n",
            "epoch:  249  Loss:  39082.830195597846  Test Loss: 26219.827720352987  Acc: 40.150000000000006\n",
            "epoch:  250  Loss:  40119.797125311365  Test Loss: 26801.94047629445  Acc: 39.62\n",
            "epoch:  251  Loss:  38982.55313700848  Test Loss: 29176.110038500054  Acc: 36.89\n",
            "epoch:  252  Loss:  39360.78318892236  Test Loss: 28526.316625102932  Acc: 36.34\n",
            "epoch:  253  Loss:  39255.676501300506  Test Loss: 26190.609802866336  Acc: 40.02\n",
            "epoch:  254  Loss:  39055.79641730049  Test Loss: 26407.223155468102  Acc: 38.53\n",
            "epoch:  255  Loss:  38505.770889970445  Test Loss: 27956.37027856941  Acc: 39.79\n",
            "epoch:  256  Loss:  38989.40506948829  Test Loss: 28216.15761829832  Acc: 37.12\n",
            "epoch:  257  Loss:  38646.42343008984  Test Loss: 26435.168861860267  Acc: 39.989999999999995\n",
            "epoch:  258  Loss:  38538.4481437086  Test Loss: 26435.698719101347  Acc: 39.36\n",
            "epoch:  259  Loss:  39414.45872589798  Test Loss: 26363.7085827265  Acc: 39.12\n",
            "epoch:  260  Loss:  37290.73054738147  Test Loss: 26583.303089098674  Acc: 40.04\n",
            "epoch:  261  Loss:  38994.62690132099  Test Loss: 27772.915751171633  Acc: 39.73\n",
            "epoch:  262  Loss:  38359.45049075107  Test Loss: 27577.51383490107  Acc: 37.6\n",
            "epoch:  263  Loss:  38576.586980833745  Test Loss: 29497.78333598481  Acc: 36.86\n",
            "epoch:  264  Loss:  37498.00266702865  Test Loss: 28319.18900877967  Acc: 38.75\n",
            "epoch:  265  Loss:  36811.260577283494  Test Loss: 28693.086059855217  Acc: 38.31\n",
            "epoch:  266  Loss:  37921.932957154626  Test Loss: 29051.89270163255  Acc: 37.99\n",
            "epoch:  267  Loss:  38491.04785276807  Test Loss: 28334.09207052  Acc: 39.51\n",
            "epoch:  268  Loss:  38085.43311239055  Test Loss: 28363.51590147261  Acc: 38.62\n",
            "epoch:  269  Loss:  38488.04109073165  Test Loss: 27835.31445024862  Acc: 38.74\n",
            "epoch:  270  Loss:  37589.11153198027  Test Loss: 26918.95887731068  Acc: 39.73\n",
            "epoch:  271  Loss:  37221.267231236096  Test Loss: 28258.844501614756  Acc: 39.69\n",
            "epoch:  272  Loss:  37354.10228148463  Test Loss: 27512.841574675243  Acc: 39.33\n",
            "epoch:  273  Loss:  37395.470010625875  Test Loss: 28605.55006847929  Acc: 39.129999999999995\n",
            "epoch:  274  Loss:  36584.870621506874  Test Loss: 28732.67846024578  Acc: 39.75\n",
            "epoch:  275  Loss:  36835.008317766646  Test Loss: 28605.218174691665  Acc: 38.53\n",
            "epoch:  276  Loss:  37375.432516124485  Test Loss: 29739.629275301657  Acc: 37.47\n",
            "epoch:  277  Loss:  36966.04456407006  Test Loss: 30293.214383705028  Acc: 37.82\n",
            "epoch:  278  Loss:  37702.705454677955  Test Loss: 29206.24909497225  Acc: 38.879999999999995\n",
            "epoch:  279  Loss:  36150.76884781857  Test Loss: 29519.368700152074  Acc: 39.24\n",
            "epoch:  280  Loss:  36354.21769322879  Test Loss: 31798.314006518598  Acc: 37.5\n",
            "epoch:  281  Loss:  35770.939669763415  Test Loss: 29889.91787958795  Acc: 38.2\n",
            "epoch:  282  Loss:  37314.21492677743  Test Loss: 28609.374201967654  Acc: 38.879999999999995\n",
            "epoch:  283  Loss:  36259.488765549824  Test Loss: 29222.409238283326  Acc: 39.5\n",
            "epoch:  284  Loss:  35705.41092338142  Test Loss: 29186.408504529278  Acc: 39.56\n",
            "epoch:  285  Loss:  36936.36001580951  Test Loss: 29788.82187643167  Acc: 38.769999999999996\n",
            "epoch:  286  Loss:  36631.148538767244  Test Loss: 29326.8240576708  Acc: 38.35\n",
            "epoch:  287  Loss:  36803.03837682429  Test Loss: 27896.329310967834  Acc: 39.39\n",
            "epoch:  288  Loss:  35359.86884565223  Test Loss: 31901.48259395034  Acc: 37.940000000000005\n",
            "epoch:  289  Loss:  37097.497706480164  Test Loss: 25651.169512926812  Acc: 38.51\n",
            "epoch:  290  Loss:  34325.90011787819  Test Loss: 31285.17630613269  Acc: 37.35\n",
            "epoch:  291  Loss:  36401.96446823802  Test Loss: 29760.082315134256  Acc: 37.92\n",
            "epoch:  292  Loss:  35849.42249131393  Test Loss: 29458.846624483776  Acc: 37.11\n",
            "epoch:  293  Loss:  35146.968128239736  Test Loss: 29338.012058361717  Acc: 38.83\n",
            "epoch:  294  Loss:  35549.44526870929  Test Loss: 28766.241505311627  Acc: 39.42\n",
            "epoch:  295  Loss:  35062.29993583249  Test Loss: 34188.16802990847  Acc: 36.08\n",
            "epoch:  296  Loss:  35245.73751132544  Test Loss: 28967.835108472576  Acc: 38.84\n",
            "epoch:  297  Loss:  35393.355106000075  Test Loss: 29341.487504259203  Acc: 39.160000000000004\n",
            "epoch:  298  Loss:  34950.30863754486  Test Loss: 30420.44899986388  Acc: 37.65\n",
            "epoch:  299  Loss:  36216.923056514905  Test Loss: 33703.49202885994  Acc: 37.03\n"
          ],
          "name": "stdout"
        },
        {
          "output_type": "display_data",
          "data": {
            "image/png": "[encoded data removed]",
            "text/plain": [
              "<Figure size 432x288 with 1 Axes>"
            ]
          },
          "metadata": {
            "tags": [],
            "needs_background": "light"
          }
        }
      ]
    },
    {
      "cell_type": "code",
      "metadata": {
        "colab": {
          "base_uri": "https://localhost:8080/",
          "height": 1000
        },
        "id": "I0ZEtnXoMxof",
        "outputId": "d5f84056-f23b-4907-a5c8-85f570dd9224"
      },
      "source": [
        "del w\r\n",
        "t=trainer(m,0.01,1,1,True)\r\n",
        "w=t.train_model(x,y,x_test,y_test,100,128)"
      ],
      "execution_count": 18,
      "outputs": [
        {
          "output_type": "stream",
          "text": [
            "epoch:  0  Loss:  29099.204650406587  Test Loss: 28343.881876253294  Acc: 40.910000000000004\n",
            "epoch:  1  Loss:  27487.989876830445  Test Loss: 28780.411890743344  Acc: 40.88\n",
            "epoch:  2  Loss:  27032.45119042936  Test Loss: 29118.110603111247  Acc: 40.69\n",
            "epoch:  3  Loss:  26655.22046901044  Test Loss: 29406.031878694437  Acc: 40.73\n",
            "epoch:  4  Loss:  26368.17998369707  Test Loss: 29696.970205905905  Acc: 40.81\n",
            "epoch:  5  Loss:  26063.33850892564  Test Loss: 29913.6572355678  Acc: 40.71\n",
            "epoch:  6  Loss:  25855.91044101448  Test Loss: 30205.220871886577  Acc: 40.69\n",
            "epoch:  7  Loss:  25622.727594401713  Test Loss: 30439.51433106964  Acc: 40.62\n",
            "epoch:  8  Loss:  25435.037222919596  Test Loss: 30669.61736825221  Acc: 40.69\n",
            "epoch:  9  Loss:  25253.68115044833  Test Loss: 30890.121593075335  Acc: 40.47\n",
            "epoch:  10  Loss:  25042.944486613378  Test Loss: 31105.944305204222  Acc: 40.48\n",
            "epoch:  11  Loss:  24851.879139242767  Test Loss: 31303.915918814662  Acc: 40.45\n",
            "epoch:  12  Loss:  24717.342928982995  Test Loss: 31537.53878436045  Acc: 40.339999999999996\n",
            "epoch:  13  Loss:  24555.856638680612  Test Loss: 31751.022243183557  Acc: 40.339999999999996\n",
            "epoch:  14  Loss:  24407.955640792417  Test Loss: 31933.25603952176  Acc: 40.42\n",
            "epoch:  15  Loss:  24273.398795076784  Test Loss: 32139.901921273227  Acc: 40.36\n",
            "epoch:  16  Loss:  24128.93794772067  Test Loss: 32371.39231343504  Acc: 40.33\n",
            "epoch:  17  Loss:  23992.75879874615  Test Loss: 32577.15268424565  Acc: 40.43\n",
            "epoch:  18  Loss:  23868.64743244854  Test Loss: 32779.100289690505  Acc: 40.22\n",
            "epoch:  19  Loss:  23709.595090295363  Test Loss: 32977.82568029526  Acc: 40.339999999999996\n",
            "epoch:  20  Loss:  23571.564897525266  Test Loss: 33111.2277257372  Acc: 40.300000000000004\n",
            "epoch:  21  Loss:  23456.708463523097  Test Loss: 33386.04212991563  Acc: 40.129999999999995\n",
            "epoch:  22  Loss:  23322.85083329284  Test Loss: 33579.015270920034  Acc: 40.150000000000006\n",
            "epoch:  23  Loss:  23211.851242936733  Test Loss: 33719.267221848335  Acc: 40.150000000000006\n",
            "epoch:  24  Loss:  23075.12153448109  Test Loss: 33887.14019754955  Acc: 40.150000000000006\n",
            "epoch:  25  Loss:  22979.588115375132  Test Loss: 34117.686725139174  Acc: 39.98\n",
            "epoch:  26  Loss:  22854.980186308938  Test Loss: 34294.40716299593  Acc: 40.12\n",
            "epoch:  27  Loss:  22718.834062894595  Test Loss: 34459.656109799114  Acc: 39.97\n",
            "epoch:  28  Loss:  22632.023023062815  Test Loss: 34658.042852939645  Acc: 39.989999999999995\n",
            "epoch:  29  Loss:  22498.689920838067  Test Loss: 34776.185585471336  Acc: 40.02\n",
            "epoch:  30  Loss:  22387.82204340656  Test Loss: 34980.605162374435  Acc: 40.02\n",
            "epoch:  31  Loss:  22315.47533447697  Test Loss: 35158.87620789832  Acc: 39.93\n",
            "epoch:  32  Loss:  22193.172035209307  Test Loss: 35309.33024653647  Acc: 39.92\n",
            "epoch:  33  Loss:  22066.92259486597  Test Loss: 35447.86246554239  Acc: 39.98\n",
            "epoch:  34  Loss:  21993.88356224802  Test Loss: 35699.90394665761  Acc: 40.11\n",
            "epoch:  35  Loss:  21878.438492185884  Test Loss: 35851.69923957513  Acc: 40.07\n",
            "epoch:  36  Loss:  21774.234415038507  Test Loss: 35963.608248388635  Acc: 40.0\n",
            "epoch:  37  Loss:  21670.530676498212  Test Loss: 36258.140076250056  Acc: 39.98\n",
            "epoch:  38  Loss:  21578.48324300515  Test Loss: 36440.18057403826  Acc: 39.89\n",
            "epoch:  39  Loss:  21479.870680507862  Test Loss: 36563.70154659605  Acc: 40.01\n",
            "epoch:  40  Loss:  21379.523059558807  Test Loss: 36774.39627928266  Acc: 39.95\n",
            "epoch:  41  Loss:  21270.4296426777  Test Loss: 36987.61239257995  Acc: 39.900000000000006\n",
            "epoch:  42  Loss:  21174.715805482614  Test Loss: 37131.59719578221  Acc: 39.95\n",
            "epoch:  43  Loss:  21068.719622034117  Test Loss: 37257.819991946126  Acc: 39.879999999999995\n",
            "epoch:  44  Loss:  20962.833221163393  Test Loss: 37455.360169553394  Acc: 39.85\n",
            "epoch:  45  Loss:  20878.136985175915  Test Loss: 37584.32109963115  Acc: 39.900000000000006\n",
            "epoch:  46  Loss:  20791.29197143144  Test Loss: 37775.35665730717  Acc: 39.87\n",
            "epoch:  47  Loss:  20691.021328538693  Test Loss: 37948.9231006611  Acc: 39.87\n",
            "epoch:  48  Loss:  20611.083807503535  Test Loss: 38152.88660536213  Acc: 39.72\n",
            "epoch:  49  Loss:  20503.66832066657  Test Loss: 38365.8768149014  Acc: 39.82\n",
            "epoch:  50  Loss:  20434.36749841659  Test Loss: 38509.860345016816  Acc: 39.65\n",
            "epoch:  51  Loss:  20308.78420973384  Test Loss: 38632.90307497228  Acc: 39.82\n",
            "epoch:  52  Loss:  20230.899786598457  Test Loss: 38812.16665756324  Acc: 39.73\n",
            "epoch:  53  Loss:  20160.835832834182  Test Loss: 38949.18895385299  Acc: 39.78\n",
            "epoch:  54  Loss:  20045.986804021977  Test Loss: 39195.992480465175  Acc: 39.83\n",
            "epoch:  55  Loss:  19953.742657575713  Test Loss: 39312.5277115963  Acc: 39.76\n",
            "epoch:  56  Loss:  19877.90208232008  Test Loss: 39519.91984250376  Acc: 39.739999999999995\n",
            "epoch:  57  Loss:  19769.40359209126  Test Loss: 39676.07018516051  Acc: 39.61\n",
            "epoch:  58  Loss:  19691.087619715614  Test Loss: 39840.896071473406  Acc: 39.6\n",
            "epoch:  59  Loss:  19618.34731226915  Test Loss: 40093.559078253515  Acc: 39.67\n",
            "epoch:  60  Loss:  19525.920534940382  Test Loss: 40184.60179626933  Acc: 39.65\n",
            "epoch:  61  Loss:  19423.999795212076  Test Loss: 40347.46343563907  Acc: 39.57\n",
            "epoch:  62  Loss:  19327.790664437507  Test Loss: 40571.36065191845  Acc: 39.64\n",
            "epoch:  63  Loss:  19271.891839143773  Test Loss: 40703.429325559955  Acc: 39.75\n",
            "epoch:  64  Loss:  19163.820683020105  Test Loss: 40912.42007781795  Acc: 39.62\n",
            "epoch:  65  Loss:  19093.875653304593  Test Loss: 41004.776685428784  Acc: 39.550000000000004\n",
            "epoch:  66  Loss:  19016.97929356078  Test Loss: 41226.65014282719  Acc: 39.67\n",
            "epoch:  67  Loss:  18927.62049191487  Test Loss: 41395.22125920771  Acc: 39.51\n",
            "epoch:  68  Loss:  18861.021646158966  Test Loss: 41559.89040283855  Acc: 39.660000000000004\n",
            "epoch:  69  Loss:  18753.874083305844  Test Loss: 41710.29205827135  Acc: 39.6\n",
            "epoch:  70  Loss:  18682.573962444178  Test Loss: 41845.687112646214  Acc: 39.589999999999996\n",
            "epoch:  71  Loss:  18598.19362253188  Test Loss: 42061.86054147028  Acc: 39.6\n",
            "epoch:  72  Loss:  18512.665533081094  Test Loss: 42258.83163292914  Acc: 39.550000000000004\n",
            "epoch:  73  Loss:  18473.877307880222  Test Loss: 42444.8358111901  Acc: 39.629999999999995\n",
            "epoch:  74  Loss:  18371.366227545157  Test Loss: 42581.57698004194  Acc: 39.57\n",
            "epoch:  75  Loss:  18291.69024365235  Test Loss: 42859.98301846874  Acc: 39.67\n",
            "epoch:  76  Loss:  18188.86087538758  Test Loss: 43002.20247853066  Acc: 39.57\n",
            "epoch:  77  Loss:  18158.867436037246  Test Loss: 43229.49881424295  Acc: 39.62\n",
            "epoch:  78  Loss:  18060.847152377766  Test Loss: 43320.20530544473  Acc: 39.45\n",
            "epoch:  79  Loss:  17974.817836222763  Test Loss: 43469.442853523855  Acc: 39.589999999999996\n",
            "epoch:  80  Loss:  17922.155585535424  Test Loss: 43702.614686150846  Acc: 39.42\n",
            "epoch:  81  Loss:  17824.910710152897  Test Loss: 43895.152145212465  Acc: 39.379999999999995\n",
            "epoch:  82  Loss:  17760.18343259071  Test Loss: 44021.03177133025  Acc: 39.519999999999996\n",
            "epoch:  83  Loss:  17666.648019240492  Test Loss: 44176.74558617662  Acc: 39.489999999999995\n",
            "epoch:  84  Loss:  17591.09309310929  Test Loss: 44405.22246436181  Acc: 39.42\n",
            "epoch:  85  Loss:  17504.56988732198  Test Loss: 44626.01420269455  Acc: 39.36\n",
            "epoch:  86  Loss:  17457.42566883142  Test Loss: 44738.48851067129  Acc: 39.4\n",
            "epoch:  87  Loss:  17387.011195686304  Test Loss: 45021.80088952128  Acc: 39.489999999999995\n",
            "epoch:  88  Loss:  17279.699413147122  Test Loss: 45149.12872579207  Acc: 39.379999999999995\n",
            "epoch:  89  Loss:  17233.53241265362  Test Loss: 45323.0220324986  Acc: 39.45\n",
            "epoch:  90  Loss:  17138.320040509927  Test Loss: 45496.862726648236  Acc: 39.410000000000004\n",
            "epoch:  91  Loss:  17096.275508134586  Test Loss: 45720.887657038176  Acc: 39.379999999999995\n",
            "epoch:  92  Loss:  17004.4960058135  Test Loss: 45764.12322455632  Acc: 39.58\n",
            "epoch:  93  Loss:  16945.435135402768  Test Loss: 45931.67314692744  Acc: 39.51\n",
            "epoch:  94  Loss:  16867.054633620188  Test Loss: 46127.460991479325  Acc: 39.35\n",
            "epoch:  95  Loss:  16805.979748217138  Test Loss: 46275.995069704106  Acc: 39.45\n",
            "epoch:  96  Loss:  16740.9202055566  Test Loss: 46489.03289051823  Acc: 39.44\n",
            "epoch:  97  Loss:  16678.95276084807  Test Loss: 46592.99398710885  Acc: 39.46\n",
            "epoch:  98  Loss:  16582.035539977798  Test Loss: 46836.41033334436  Acc: 39.33\n",
            "epoch:  99  Loss:  16518.182144959566  Test Loss: 47023.01712986826  Acc: 39.550000000000004\n"
          ],
          "name": "stdout"
        },
        {
          "output_type": "display_data",
          "data": {
            "image/png": "[encoded data removed]",
            "text/plain": [
              "<Figure size 432x288 with 1 Axes>"
            ]
          },
          "metadata": {
            "tags": [],
            "needs_background": "light"
          }
        }
      ]
    },
    {
      "cell_type": "code",
      "metadata": {
        "id": "DS0HF9ULSUHc",
        "colab": {
          "base_uri": "https://localhost:8080/"
        },
        "outputId": "16fc227e-b2ac-42ee-d109-e5472c87375b"
      },
      "source": [
        "print(\"test\")\r\n",
        "print(\"train acc: \",m.predict(x,y))\r\n",
        "print(\"test acc: \",m.predict(x_test,y_test))\r\n"
      ],
      "execution_count": 19,
      "outputs": [
        {
          "output_type": "stream",
          "text": [
            "test\n",
            "train acc:  79.084\n",
            "test acc:  39.550000000000004\n"
          ],
          "name": "stdout"
        }
      ]
    },
    {
      "cell_type": "code",
      "metadata": {
        "id": "Hg0coinleAhZ"
      },
      "source": [
        "pic=x[:,1:2].reshape(32,32)\r\n",
        "plt.imshow(pic, cmap = plt.cm.binary)\r\n",
        "figure = plt.gcf()\r\n",
        "figure.set_size_inches(1,1)\r\n",
        "plt.axis(\"off\")\r\n",
        "plt.show()"
      ],
      "execution_count": null,
      "outputs": []
    },
    {
      "cell_type": "code",
      "metadata": {
        "id": "ZZveTzOmlKCi"
      },
      "source": [
        "print(numpy.shape(pic))\r\n",
        "repic=[]\r\n",
        "for j in range(0,32,2):\r\n",
        "  plist=[]\r\n",
        "  #print(j)\r\n",
        "  for i in range(0,32,2):\r\n",
        "    #maxx=max(pic[j][i],pic[j+1][i],pic[j][i+1],pic[i+1][j+1])\r\n",
        "    maxx=(pic[j][i]+pic[j+1][i]+pic[j][i+1]+pic[i+1][j+1])/4\r\n",
        "    plist.append(maxx)\r\n",
        "  repic.append(plist)\r\n",
        "print(repic)\r\n",
        "repic=numpy.array(repic)\r\n",
        "print(numpy.shape(repic))\r\n",
        "plt.imshow(repic, cmap = plt.cm.binary)\r\n",
        "plt.axis(\"off\")\r\n",
        "plt.show()"
      ],
      "execution_count": null,
      "outputs": []
    },
    {
      "cell_type": "code",
      "metadata": {
        "id": "AruNz74BPlc4",
        "colab": {
          "base_uri": "https://localhost:8080/",
          "height": 47
        },
        "outputId": "effce0a1-4410-4d40-ead7-fe3d1d9745e9"
      },
      "source": [
        "import cv2\r\n",
        "repic = cv2.resize(pic, dsize=(16, 16), interpolation=cv2.INTER_CUBIC)\r\n",
        "plt.imshow(repic, cmap = plt.cm.binary)\r\n",
        "figure = plt.gcf()\r\n",
        "figure.set_size_inches(0.3,0.3)\r\n",
        "plt.axis(\"off\")\r\n",
        "plt.show()"
      ],
      "execution_count": null,
      "outputs": [
        {
          "output_type": "display_data",
          "data": {
            "image/png": "[encoded data removed]",
            "text/plain": [
              "<Figure size 21.6x21.6 with 1 Axes>"
            ]
          },
          "metadata": {
            "tags": [],
            "needs_background": "light"
          }
        }
      ]
    }
  ]
}